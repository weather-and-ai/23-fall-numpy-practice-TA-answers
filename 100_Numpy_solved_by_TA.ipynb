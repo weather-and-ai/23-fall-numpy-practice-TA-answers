{
 "cells": [
  {
   "cell_type": "markdown",
   "id": "f44a2f2b",
   "metadata": {},
   "source": [
    "# 100 numpy exercises\n",
    "\n",
    "This is a collection of exercises that have been collected in the numpy mailing list, on stack overflow\n",
    "and in the numpy documentation. The goal of this collection is to offer a quick reference for both old\n",
    "and new users but also to provide a set of exercises for those who teach.\n",
    "\n",
    "\n",
    "If you find an error or think you've a better way to solve some of them, feel\n",
    "free to open an issue at <https://github.com/rougier/numpy-100>."
   ]
  },
  {
   "cell_type": "markdown",
   "id": "0fe3d529",
   "metadata": {},
   "source": [
    "File automatically generated. See the documentation to update questions/answers/hints programmatically."
   ]
  },
  {
   "cell_type": "markdown",
   "id": "23296a93",
   "metadata": {},
   "source": [
    "Run the `initialize.py` module, then for each question you can query the\n",
    "answer or an hint with `hint(n)` or `answer(n)` for `n` question number."
   ]
  },
  {
   "cell_type": "code",
   "execution_count": 1,
   "id": "530390cf",
   "metadata": {},
   "outputs": [],
   "source": [
    "%run initialise.py"
   ]
  },
  {
   "cell_type": "markdown",
   "id": "96443564",
   "metadata": {},
   "source": [
    "#### 1. Import the numpy package under the name `np` (★☆☆)"
   ]
  },
  {
   "cell_type": "code",
   "execution_count": 1,
   "id": "ffe1047e",
   "metadata": {},
   "outputs": [],
   "source": [
    "import numpy as np"
   ]
  },
  {
   "cell_type": "markdown",
   "id": "c807bf1d",
   "metadata": {},
   "source": [
    "#### 2. Print the numpy version and the configuration (★☆☆)"
   ]
  },
  {
   "cell_type": "code",
   "execution_count": 3,
   "id": "f396b717",
   "metadata": {},
   "outputs": [
    {
     "name": "stdout",
     "output_type": "stream",
     "text": [
      "My numpy version: 1.22.1\n",
      "openblas64__info:\n",
      "    libraries = ['openblas64_', 'openblas64_']\n",
      "    library_dirs = ['/usr/local/lib']\n",
      "    language = c\n",
      "    define_macros = [('HAVE_CBLAS', None), ('BLAS_SYMBOL_SUFFIX', '64_'), ('HAVE_BLAS_ILP64', None)]\n",
      "    runtime_library_dirs = ['/usr/local/lib']\n",
      "blas_ilp64_opt_info:\n",
      "    libraries = ['openblas64_', 'openblas64_']\n",
      "    library_dirs = ['/usr/local/lib']\n",
      "    language = c\n",
      "    define_macros = [('HAVE_CBLAS', None), ('BLAS_SYMBOL_SUFFIX', '64_'), ('HAVE_BLAS_ILP64', None)]\n",
      "    runtime_library_dirs = ['/usr/local/lib']\n",
      "openblas64__lapack_info:\n",
      "    libraries = ['openblas64_', 'openblas64_']\n",
      "    library_dirs = ['/usr/local/lib']\n",
      "    language = c\n",
      "    define_macros = [('HAVE_CBLAS', None), ('BLAS_SYMBOL_SUFFIX', '64_'), ('HAVE_BLAS_ILP64', None), ('HAVE_LAPACKE', None)]\n",
      "    runtime_library_dirs = ['/usr/local/lib']\n",
      "lapack_ilp64_opt_info:\n",
      "    libraries = ['openblas64_', 'openblas64_']\n",
      "    library_dirs = ['/usr/local/lib']\n",
      "    language = c\n",
      "    define_macros = [('HAVE_CBLAS', None), ('BLAS_SYMBOL_SUFFIX', '64_'), ('HAVE_BLAS_ILP64', None), ('HAVE_LAPACKE', None)]\n",
      "    runtime_library_dirs = ['/usr/local/lib']\n",
      "Supported SIMD extensions in this NumPy install:\n",
      "    baseline = SSE,SSE2,SSE3\n",
      "    found = SSSE3,SSE41,POPCNT,SSE42,AVX,F16C,FMA3,AVX2\n",
      "    not found = AVX512F,AVX512CD,AVX512_KNL,AVX512_SKX,AVX512_CLX,AVX512_CNL,AVX512_ICL\n"
     ]
    }
   ],
   "source": [
    "print(\"My numpy version:\", np.__version__)\n",
    "np.show_config()"
   ]
  },
  {
   "cell_type": "markdown",
   "id": "572c1bdb",
   "metadata": {},
   "source": [
    "#### 3. Create a null vector of size 10 (★☆☆)"
   ]
  },
  {
   "cell_type": "code",
   "execution_count": 4,
   "id": "31c9f6a5",
   "metadata": {},
   "outputs": [
    {
     "name": "stdout",
     "output_type": "stream",
     "text": [
      "[0. 0. 0. 0. 0. 0. 0. 0. 0. 0.]\n"
     ]
    }
   ],
   "source": [
    "null_vector = np.zeros(10)\n",
    "print(null_vector)\n"
   ]
  },
  {
   "cell_type": "markdown",
   "id": "337e6e36",
   "metadata": {},
   "source": [
    "#### 4. How to find the memory size of any array (★☆☆)"
   ]
  },
  {
   "cell_type": "code",
   "execution_count": 5,
   "id": "31e8ec2e",
   "metadata": {},
   "outputs": [
    {
     "name": "stdout",
     "output_type": "stream",
     "text": [
      "Memory size of any array in bytes: 24\n"
     ]
    }
   ],
   "source": [
    "test = np.array([1, 2, 3])\n",
    "\n",
    "print(\"Memory size of any array in bytes:\", test.size * test.itemsize)"
   ]
  },
  {
   "cell_type": "markdown",
   "id": "166079c8",
   "metadata": {},
   "source": [
    "#### 5. How to get the documentation of the numpy add function from the command line? (★☆☆)"
   ]
  },
  {
   "cell_type": "code",
   "execution_count": 38,
   "id": "593cd80f",
   "metadata": {},
   "outputs": [
    {
     "ename": "Exception",
     "evalue": "File `'`python.py'` not found.",
     "output_type": "error",
     "traceback": [
      "\u001b[0;31m---------------------------------------------------------------------------\u001b[0m",
      "\u001b[0;31mOSError\u001b[0m                                   Traceback (most recent call last)",
      "File \u001b[0;32m/Library/Frameworks/Python.framework/Versions/3.10/lib/python3.10/site-packages/IPython/core/magics/execution.py:696\u001b[0m, in \u001b[0;36mExecutionMagics.run\u001b[0;34m(self, parameter_s, runner, file_finder)\u001b[0m\n\u001b[1;32m    695\u001b[0m     fpath \u001b[39m=\u001b[39m arg_lst[\u001b[39m0\u001b[39m]\n\u001b[0;32m--> 696\u001b[0m     filename \u001b[39m=\u001b[39m file_finder(fpath)\n\u001b[1;32m    697\u001b[0m \u001b[39mexcept\u001b[39;00m \u001b[39mIndexError\u001b[39;00m \u001b[39mas\u001b[39;00m e:\n",
      "File \u001b[0;32m/Library/Frameworks/Python.framework/Versions/3.10/lib/python3.10/site-packages/IPython/utils/path.py:91\u001b[0m, in \u001b[0;36mget_py_filename\u001b[0;34m(name)\u001b[0m\n\u001b[1;32m     90\u001b[0m \u001b[39melse\u001b[39;00m:\n\u001b[0;32m---> 91\u001b[0m     \u001b[39mraise\u001b[39;00m \u001b[39mIOError\u001b[39;00m(\u001b[39m'\u001b[39m\u001b[39mFile `\u001b[39m\u001b[39m%r\u001b[39;00m\u001b[39m` not found.\u001b[39m\u001b[39m'\u001b[39m \u001b[39m%\u001b[39m name)\n",
      "\u001b[0;31mOSError\u001b[0m: File `'`python.py'` not found.",
      "\nThe above exception was the direct cause of the following exception:\n",
      "\u001b[0;31mException\u001b[0m                                 Traceback (most recent call last)",
      "\u001b[1;32m/Users/linchunho/Developer/numpy-100/100_Numpy_solved_by_1chooo.ipynb Cell 14\u001b[0m in \u001b[0;36m<module>\u001b[0;34m\u001b[0m\n\u001b[0;32m----> <a href='vscode-notebook-cell:/Users/linchunho/Developer/numpy-100/100_Numpy_solved_by_1chooo.ipynb#X16sZmlsZQ%3D%3D?line=0'>1</a>\u001b[0m get_ipython()\u001b[39m.\u001b[39;49mrun_line_magic(\u001b[39m'\u001b[39;49m\u001b[39mrun\u001b[39;49m\u001b[39m'\u001b[39;49m, \u001b[39m'\u001b[39;49m\u001b[39m`python -c \u001b[39;49m\u001b[39m\"\u001b[39;49m\u001b[39mimport numpy as np; np.info(np.add)\u001b[39;49m\u001b[39m\"\u001b[39;49m\u001b[39m`\u001b[39;49m\u001b[39m'\u001b[39;49m)\n",
      "File \u001b[0;32m/Library/Frameworks/Python.framework/Versions/3.10/lib/python3.10/site-packages/IPython/core/interactiveshell.py:2204\u001b[0m, in \u001b[0;36mInteractiveShell.run_line_magic\u001b[0;34m(self, magic_name, line, _stack_depth)\u001b[0m\n\u001b[1;32m   2202\u001b[0m     kwargs[\u001b[39m'\u001b[39m\u001b[39mlocal_ns\u001b[39m\u001b[39m'\u001b[39m] \u001b[39m=\u001b[39m \u001b[39mself\u001b[39m\u001b[39m.\u001b[39mget_local_scope(stack_depth)\n\u001b[1;32m   2203\u001b[0m \u001b[39mwith\u001b[39;00m \u001b[39mself\u001b[39m\u001b[39m.\u001b[39mbuiltin_trap:\n\u001b[0;32m-> 2204\u001b[0m     result \u001b[39m=\u001b[39m fn(\u001b[39m*\u001b[39;49margs, \u001b[39m*\u001b[39;49m\u001b[39m*\u001b[39;49mkwargs)\n\u001b[1;32m   2205\u001b[0m \u001b[39mreturn\u001b[39;00m result\n",
      "File \u001b[0;32m/Library/Frameworks/Python.framework/Versions/3.10/lib/python3.10/site-packages/IPython/core/magics/execution.py:707\u001b[0m, in \u001b[0;36mExecutionMagics.run\u001b[0;34m(self, parameter_s, runner, file_finder)\u001b[0m\n\u001b[1;32m    705\u001b[0m     \u001b[39mif\u001b[39;00m os\u001b[39m.\u001b[39mname \u001b[39m==\u001b[39m \u001b[39m'\u001b[39m\u001b[39mnt\u001b[39m\u001b[39m'\u001b[39m \u001b[39mand\u001b[39;00m re\u001b[39m.\u001b[39mmatch(\u001b[39mr\u001b[39m\u001b[39m\"\u001b[39m\u001b[39m^\u001b[39m\u001b[39m'\u001b[39m\u001b[39m.*\u001b[39m\u001b[39m'\u001b[39m\u001b[39m$\u001b[39m\u001b[39m\"\u001b[39m,fpath):\n\u001b[1;32m    706\u001b[0m         warn(\u001b[39m'\u001b[39m\u001b[39mFor Windows, use double quotes to wrap a filename: \u001b[39m\u001b[39m%r\u001b[39;00m\u001b[39mun \u001b[39m\u001b[39m\"\u001b[39m\u001b[39mmypath\u001b[39m\u001b[39m\\\\\u001b[39;00m\u001b[39mmyfile.py\u001b[39m\u001b[39m\"\u001b[39m\u001b[39m'\u001b[39m)\n\u001b[0;32m--> 707\u001b[0m     \u001b[39mraise\u001b[39;00m \u001b[39mException\u001b[39;00m(msg) \u001b[39mfrom\u001b[39;00m \u001b[39me\u001b[39;00m\n\u001b[1;32m    708\u001b[0m \u001b[39mexcept\u001b[39;00m \u001b[39mTypeError\u001b[39;00m:\n\u001b[1;32m    709\u001b[0m     \u001b[39mif\u001b[39;00m fpath \u001b[39min\u001b[39;00m sys\u001b[39m.\u001b[39mmeta_path:\n",
      "\u001b[0;31mException\u001b[0m: File `'`python.py'` not found."
     ]
    }
   ],
   "source": [
    "%run `python -c \"import numpy as np; np.info(np.add)\"`"
   ]
  },
  {
   "cell_type": "markdown",
   "id": "3add7101",
   "metadata": {},
   "source": [
    "#### 6. Create a null vector of size 10 but the fifth value which is 1 (★☆☆)"
   ]
  },
  {
   "cell_type": "code",
   "execution_count": 6,
   "id": "2edf3c42",
   "metadata": {},
   "outputs": [
    {
     "name": "stdout",
     "output_type": "stream",
     "text": [
      "[0. 0. 0. 0. 1. 0. 0. 0. 0. 0.]\n"
     ]
    }
   ],
   "source": [
    "null_vector = np.zeros(10)\n",
    "null_vector[4] = 1\n",
    "\n",
    "print(null_vector)"
   ]
  },
  {
   "cell_type": "markdown",
   "id": "cfc46304",
   "metadata": {},
   "source": [
    "#### 7. Create a vector with values ranging from 10 to 49 (★☆☆)"
   ]
  },
  {
   "cell_type": "code",
   "execution_count": 7,
   "id": "d8b86640",
   "metadata": {},
   "outputs": [
    {
     "name": "stdout",
     "output_type": "stream",
     "text": [
      "[10 11 12 13 14 15 16 17 18 19 20 21 22 23 24 25 26 27 28 29 30 31 32 33\n",
      " 34 35 36 37 38 39 40 41 42 43 44 45 46 47 48 49]\n"
     ]
    }
   ],
   "source": [
    "vector = np.arange(10, 50)\n",
    "\n",
    "print(vector)"
   ]
  },
  {
   "cell_type": "markdown",
   "id": "0cc200be",
   "metadata": {},
   "source": [
    "#### 8. Reverse a vector (first element becomes last) (★☆☆)"
   ]
  },
  {
   "cell_type": "code",
   "execution_count": 8,
   "id": "ec044bb5",
   "metadata": {},
   "outputs": [
    {
     "name": "stdout",
     "output_type": "stream",
     "text": [
      "[1 2 3 4 5]\n",
      "[5 4 3 2 1]\n"
     ]
    }
   ],
   "source": [
    "test = np.array([1, 2, 3, 4, 5])\n",
    "\n",
    "test_reverse = test[::-1]\n",
    "\n",
    "print(test)\n",
    "print(test_reverse)"
   ]
  },
  {
   "cell_type": "markdown",
   "id": "29d9ede4",
   "metadata": {},
   "source": [
    "#### 9. Create a 3x3 matrix with values ranging from 0 to 8 (★☆☆)"
   ]
  },
  {
   "cell_type": "code",
   "execution_count": 9,
   "id": "d9e39043",
   "metadata": {},
   "outputs": [
    {
     "name": "stdout",
     "output_type": "stream",
     "text": [
      "[[0 1 2]\n",
      " [3 4 5]\n",
      " [6 7 8]]\n"
     ]
    }
   ],
   "source": [
    "matrix = np.arange(9).reshape(3, 3)\n",
    "\n",
    "print(matrix)"
   ]
  },
  {
   "cell_type": "markdown",
   "id": "88905ceb",
   "metadata": {},
   "source": [
    "#### 10. Find indices of non-zero elements from [1,2,0,0,4,0] (★☆☆)"
   ]
  },
  {
   "cell_type": "code",
   "execution_count": 10,
   "id": "b2f3c90a",
   "metadata": {},
   "outputs": [
    {
     "name": "stdout",
     "output_type": "stream",
     "text": [
      "(array([0, 1, 4]),)\n"
     ]
    }
   ],
   "source": [
    "example = np.array([1, 2, 0, 0, 4, 0])\n",
    "\n",
    "print(example.nonzero())"
   ]
  },
  {
   "cell_type": "markdown",
   "id": "49603e91",
   "metadata": {},
   "source": [
    "#### 11. Create a 3x3 identity matrix (★☆☆)"
   ]
  },
  {
   "cell_type": "code",
   "execution_count": 11,
   "id": "5b607b5c",
   "metadata": {},
   "outputs": [
    {
     "name": "stdout",
     "output_type": "stream",
     "text": [
      "[[0 1 2]\n",
      " [3 4 5]\n",
      " [6 7 8]]\n"
     ]
    }
   ],
   "source": [
    "identity_matrix = np.arange(9).reshape(3, 3)\n",
    "\n",
    "print(identity_matrix)"
   ]
  },
  {
   "cell_type": "markdown",
   "id": "e15c249a",
   "metadata": {},
   "source": [
    "#### 12. Create a 3x3x3 array with random values (★☆☆)"
   ]
  },
  {
   "cell_type": "code",
   "execution_count": 12,
   "id": "ab21ed50",
   "metadata": {},
   "outputs": [
    {
     "name": "stdout",
     "output_type": "stream",
     "text": [
      "[[[0.92888325 0.64951289 0.01454439]\n",
      "  [0.73891608 0.78417088 0.43894159]\n",
      "  [0.21346645 0.32650667 0.92099759]]\n",
      "\n",
      " [[0.26766605 0.93715657 0.55873579]\n",
      "  [0.94716187 0.84626043 0.37057554]\n",
      "  [0.2058716  0.45875341 0.88279698]]\n",
      "\n",
      " [[0.58064256 0.17891853 0.63717723]\n",
      "  [0.05180889 0.17456287 0.31298188]\n",
      "  [0.38141002 0.01995524 0.64943989]]]\n"
     ]
    }
   ],
   "source": [
    "three_D_array = np.random.random([3, 3, 3])\n",
    "\n",
    "print(three_D_array)"
   ]
  },
  {
   "cell_type": "markdown",
   "id": "157a129c",
   "metadata": {},
   "source": [
    "#### 13. Create a 10x10 array with random values and find the minimum and maximum values (★☆☆)"
   ]
  },
  {
   "cell_type": "code",
   "execution_count": 13,
   "id": "c0066de5",
   "metadata": {},
   "outputs": [
    {
     "name": "stdout",
     "output_type": "stream",
     "text": [
      "10x10 array with random values: \n",
      " [[0.62607767 0.08049067 0.59047405 0.18283115 0.83850227 0.08141944\n",
      "  0.76906356 0.94645345 0.29712276 0.22388969]\n",
      " [0.06993928 0.66287657 0.04263055 0.65873958 0.34374512 0.22470095\n",
      "  0.1582611  0.68708274 0.19080065 0.50865669]\n",
      " [0.60822309 0.28422287 0.13599642 0.98705426 0.61198156 0.10638518\n",
      "  0.09355219 0.35562996 0.15168434 0.66838839]\n",
      " [0.62774396 0.8086807  0.41774127 0.43621676 0.34389485 0.49607127\n",
      "  0.78468109 0.32841249 0.70880145 0.94533924]\n",
      " [0.41451136 0.71975366 0.41670823 0.70453233 0.96443724 0.48877778\n",
      "  0.13273604 0.51153303 0.55122267 0.42453803]\n",
      " [0.32359592 0.8801862  0.12506235 0.99441911 0.02953748 0.30450451\n",
      "  0.30361952 0.31132213 0.04759848 0.88740021]\n",
      " [0.31112318 0.5020527  0.73418196 0.45980313 0.56311122 0.84719189\n",
      "  0.96186762 0.32391698 0.86917253 0.32197449]\n",
      " [0.26432244 0.20374293 0.24137368 0.86383966 0.94630302 0.3073239\n",
      "  0.39208553 0.35994835 0.07189382 0.46892539]\n",
      " [0.64462644 0.64298679 0.64983491 0.92416183 0.96858468 0.49906969\n",
      "  0.9944273  0.13817268 0.01815518 0.52716083]\n",
      " [0.48489138 0.42665513 0.89076815 0.41246852 0.2299254  0.33590002\n",
      "  0.71768517 0.74762732 0.70914854 0.53251769]]\n",
      "\n",
      "minimum: 0.018155184298883187\n",
      "maximum 0.9944273030478755\n"
     ]
    }
   ],
   "source": [
    "random_array = np.random.random([10, 10])\n",
    "mini_value = random_array.min()\n",
    "max_value = random_array.max()\n",
    "\n",
    "print(\"10x10 array with random values: \\n\", random_array)\n",
    "print()\n",
    "print(\"minimum:\", mini_value)\n",
    "print(\"maximum\", max_value)\n"
   ]
  },
  {
   "cell_type": "markdown",
   "id": "d92d7b32",
   "metadata": {},
   "source": [
    "#### 14. Create a random vector of size 30 and find the mean value (★☆☆)"
   ]
  },
  {
   "cell_type": "code",
   "execution_count": 14,
   "id": "9672d023",
   "metadata": {},
   "outputs": [
    {
     "name": "stdout",
     "output_type": "stream",
     "text": [
      "Random vector of size 30:  [0.42716931 0.09816641 0.19261759 0.81179943 0.57661799 0.94024049\n",
      " 0.58182896 0.51152523 0.56109732 0.28792268 0.38426658 0.05428739\n",
      " 0.55900156 0.58188131 0.51192042 0.09412626 0.32918737 0.20460162\n",
      " 0.91259559 0.29940281 0.72103301 0.34769701 0.56861699 0.04265354\n",
      " 0.35037168 0.88604786 0.50657757 0.93665717 0.35489985 0.57760257]\n",
      "Mean value: 0.4737471178738967\n"
     ]
    }
   ],
   "source": [
    "vector = np.random.random(30)\n",
    "\n",
    "mean_value = vector.mean()\n",
    "\n",
    "print(\"Random vector of size 30: \", vector)\n",
    "print(\"Mean value:\", mean_value)"
   ]
  },
  {
   "cell_type": "markdown",
   "id": "f361efc0",
   "metadata": {},
   "source": [
    "#### 15. Create a 2d array with 1 on the border and 0 inside (★☆☆)"
   ]
  },
  {
   "cell_type": "code",
   "execution_count": 15,
   "id": "a55b6666",
   "metadata": {},
   "outputs": [
    {
     "name": "stdout",
     "output_type": "stream",
     "text": [
      "[[1. 1. 1. 1. 1.]\n",
      " [1. 0. 0. 0. 1.]\n",
      " [1. 0. 0. 0. 1.]\n",
      " [1. 0. 0. 0. 1.]\n",
      " [1. 1. 1. 1. 1.]]\n"
     ]
    }
   ],
   "source": [
    "two_D_array = np.ones([5, 5])\n",
    "two_D_array[1: -1, 1: -1] = 0\n",
    "\n",
    "print(two_D_array)"
   ]
  },
  {
   "cell_type": "markdown",
   "id": "475808cb",
   "metadata": {},
   "source": [
    "#### 16. How to add a border (filled with 0's) around an existing array? (★☆☆)"
   ]
  },
  {
   "cell_type": "code",
   "execution_count": 16,
   "id": "b2df3a8a",
   "metadata": {},
   "outputs": [
    {
     "name": "stdout",
     "output_type": "stream",
     "text": [
      "[[0. 0. 0. 0. 0. 0. 0.]\n",
      " [0. 1. 1. 1. 1. 1. 0.]\n",
      " [0. 1. 1. 1. 1. 1. 0.]\n",
      " [0. 1. 1. 1. 1. 1. 0.]\n",
      " [0. 1. 1. 1. 1. 1. 0.]\n",
      " [0. 1. 1. 1. 1. 1. 0.]\n",
      " [0. 0. 0. 0. 0. 0. 0.]]\n"
     ]
    }
   ],
   "source": [
    "# np.pad()\n",
    "\n",
    "array = np.ones([5, 5])\n",
    "array = np.pad(array, pad_width=1, mode=\"constant\", constant_values=0)\n",
    "\n",
    "print(array)"
   ]
  },
  {
   "cell_type": "markdown",
   "id": "1af07d85",
   "metadata": {},
   "source": [
    "#### 17. What is the result of the following expression? (★☆☆)\n",
    "```python\n",
    "0 * np.nan\n",
    "np.nan == np.nan\n",
    "np.inf > np.nan\n",
    "np.nan - np.nan\n",
    "np.nan in set([np.nan])\n",
    "0.3 == 3 * 0.1\n",
    "```"
   ]
  },
  {
   "cell_type": "code",
   "execution_count": 17,
   "id": "109cf327",
   "metadata": {},
   "outputs": [
    {
     "name": "stdout",
     "output_type": "stream",
     "text": [
      "nan\n",
      "False\n",
      "False\n",
      "nan\n",
      "True\n",
      "False\n"
     ]
    }
   ],
   "source": [
    "first_result = 0 * np.nan\n",
    "second_result = np.nan == np.nan\n",
    "third_result = np.inf > np.nan\n",
    "forth_result = np.nan - np.nan\n",
    "fifth_result = np.nan in set([np.nan])\n",
    "sixth_result = 0.3 == 3 * 0.1\n",
    "\n",
    "print(first_result)\n",
    "print(second_result)\n",
    "print(third_result)\n",
    "print(forth_result)\n",
    "print(fifth_result)\n",
    "print(sixth_result)"
   ]
  },
  {
   "cell_type": "markdown",
   "id": "6a235316",
   "metadata": {},
   "source": [
    "#### 18. Create a 5x5 matrix with values 1,2,3,4 just below the diagonal (★☆☆)"
   ]
  },
  {
   "cell_type": "code",
   "execution_count": 18,
   "id": "f2e6cfa6",
   "metadata": {},
   "outputs": [
    {
     "name": "stdout",
     "output_type": "stream",
     "text": [
      "[[0 0 0 0 0]\n",
      " [1 0 0 0 0]\n",
      " [0 2 0 0 0]\n",
      " [0 0 3 0 0]\n",
      " [0 0 0 4 0]]\n"
     ]
    }
   ],
   "source": [
    "\"\"\" np.diag() \"\"\"\n",
    "\n",
    "matrix = np.diag(1 + np.arange(4), k=-1)\n",
    "\n",
    "print(matrix)"
   ]
  },
  {
   "cell_type": "markdown",
   "id": "25362e98",
   "metadata": {},
   "source": [
    "#### 19. Create a 8x8 matrix and fill it with a checkerboard pattern (★☆☆)"
   ]
  },
  {
   "cell_type": "code",
   "execution_count": 19,
   "id": "cabdf298",
   "metadata": {},
   "outputs": [
    {
     "name": "stdout",
     "output_type": "stream",
     "text": [
      "[[0 1 0 1 0 1 0 1]\n",
      " [1 0 1 0 1 0 1 0]\n",
      " [0 1 0 1 0 1 0 1]\n",
      " [1 0 1 0 1 0 1 0]\n",
      " [0 1 0 1 0 1 0 1]\n",
      " [1 0 1 0 1 0 1 0]\n",
      " [0 1 0 1 0 1 0 1]\n",
      " [1 0 1 0 1 0 1 0]]\n"
     ]
    }
   ],
   "source": [
    "matrix = np.zeros([8, 8], dtype = int)\n",
    "matrix[1::2, ::2] = 1\n",
    "matrix[::2, 1::2] = 1\n",
    "\n",
    "print(matrix)"
   ]
  },
  {
   "cell_type": "markdown",
   "id": "6431e977",
   "metadata": {},
   "source": [
    "#### 20. Consider a (6,7,8) shape array, what is the index (x,y,z) of the 100th element? (★☆☆)"
   ]
  },
  {
   "cell_type": "code",
   "execution_count": 20,
   "id": "de8b0245",
   "metadata": {},
   "outputs": [
    {
     "name": "stdout",
     "output_type": "stream",
     "text": [
      "(1, 5, 4)\n"
     ]
    }
   ],
   "source": [
    "array = np.unravel_index(100, [6, 7, 8])\n",
    "\n",
    "print(array)"
   ]
  },
  {
   "cell_type": "markdown",
   "id": "31abe6fe",
   "metadata": {},
   "source": [
    "#### 21. Create a checkerboard 8x8 matrix using the tile function (★☆☆)"
   ]
  },
  {
   "cell_type": "code",
   "execution_count": 21,
   "id": "6da26fd3",
   "metadata": {},
   "outputs": [
    {
     "name": "stdout",
     "output_type": "stream",
     "text": [
      "[[0 1 0 1 0 1 0 1]\n",
      " [1 0 1 0 1 0 1 0]\n",
      " [0 1 0 1 0 1 0 1]\n",
      " [1 0 1 0 1 0 1 0]\n",
      " [0 1 0 1 0 1 0 1]\n",
      " [1 0 1 0 1 0 1 0]\n",
      " [0 1 0 1 0 1 0 1]\n",
      " [1 0 1 0 1 0 1 0]]\n"
     ]
    }
   ],
   "source": [
    "checkerboard_array = np.tile(np.array([[0,1],[1,0]]), (4,4))\n",
    "\n",
    "print(checkerboard_array)"
   ]
  },
  {
   "cell_type": "markdown",
   "id": "fd88b3f4",
   "metadata": {},
   "source": [
    "#### 22. Normalize a 5x5 random matrix (★☆☆)"
   ]
  },
  {
   "cell_type": "code",
   "execution_count": 22,
   "id": "ee6ced60",
   "metadata": {},
   "outputs": [
    {
     "name": "stdout",
     "output_type": "stream",
     "text": [
      "[[-1.73763737  0.17017002 -0.81942364  0.78154513  0.00403069]\n",
      " [ 1.48762864  1.09943367  1.7385145   0.897815   -0.25999478]\n",
      " [-1.70751758 -0.12631357  1.0843005   0.99930905 -1.30485394]\n",
      " [-0.08376351  1.1528326  -0.69766379 -1.11821157  0.1288127 ]\n",
      " [-0.76548938 -1.00597944 -1.06871909  0.73439996  0.41677522]]\n"
     ]
    }
   ],
   "source": [
    "random_array = np.random.random([5, 5])\n",
    "random_array = (random_array - np.mean(random_array)) / np.std(random_array)\n",
    "\n",
    "print(random_array)"
   ]
  },
  {
   "cell_type": "markdown",
   "id": "464d8590",
   "metadata": {},
   "source": [
    "#### 23. Create a custom dtype that describes a color as four unsigned bytes (RGBA) (★☆☆)"
   ]
  },
  {
   "cell_type": "code",
   "execution_count": 23,
   "id": "e2f9cfc6",
   "metadata": {},
   "outputs": [
    {
     "name": "stderr",
     "output_type": "stream",
     "text": [
      "/var/folders/nl/l2b2vttd7j73mhvfwrp0lwzr0000gn/T/ipykernel_26533/2911720781.py:1: FutureWarning: Passing (type, 1) or '1type' as a synonym of type is deprecated; in a future version of numpy, it will be understood as (type, (1,)) / '(1,)type'.\n",
      "  color = np.dtype([(\"r\", np.ubyte, 1),\n"
     ]
    }
   ],
   "source": [
    "color = np.dtype([(\"r\", np.ubyte, 1),\n",
    "                  (\"g\", np.ubyte, 1),\n",
    "                  (\"b\", np.ubyte, 1),\n",
    "                  (\"a\", np.ubyte, 1)])"
   ]
  },
  {
   "cell_type": "markdown",
   "id": "06c63bb3",
   "metadata": {},
   "source": [
    "#### 24. Multiply a 5x3 matrix by a 3x2 matrix (real matrix product) (★☆☆)"
   ]
  },
  {
   "cell_type": "code",
   "execution_count": 24,
   "id": "9fc0d553",
   "metadata": {},
   "outputs": [
    {
     "name": "stdout",
     "output_type": "stream",
     "text": [
      "[[3. 3.]\n",
      " [3. 3.]\n",
      " [3. 3.]\n",
      " [3. 3.]\n",
      " [3. 3.]]\n"
     ]
    }
   ],
   "source": [
    "five_by_three_matrix = np.ones([5, 3])\n",
    "three_by_two_matrix = np.ones([3, 2])\n",
    "ans = np.dot(five_by_three_matrix, three_by_two_matrix)\n",
    "\n",
    "print(ans)"
   ]
  },
  {
   "cell_type": "markdown",
   "id": "76fa6285",
   "metadata": {},
   "source": [
    "#### 25. Given a 1D array, negate all elements which are between 3 and 8, in place. (★☆☆)"
   ]
  },
  {
   "cell_type": "code",
   "execution_count": 25,
   "id": "0e25eca7",
   "metadata": {},
   "outputs": [
    {
     "name": "stdout",
     "output_type": "stream",
     "text": [
      "[ 0  1  2  3 -4 -5 -6 -7 -8  9 10]\n"
     ]
    }
   ],
   "source": [
    "array = np.arange(11)\n",
    "array[(3 < array) & (array <= 8)] *= -1\n",
    "\n",
    "print(array)"
   ]
  },
  {
   "cell_type": "markdown",
   "id": "930ed8bb",
   "metadata": {},
   "source": [
    "#### 26. What is the output of the following script? (★☆☆)\n",
    "```python\n",
    "# Author: Jake VanderPlas\n",
    "\n",
    "print(sum(range(5),-1))\n",
    "from numpy import *\n",
    "print(sum(range(5),-1))\n",
    "```"
   ]
  },
  {
   "cell_type": "code",
   "execution_count": 26,
   "id": "d36d73d3",
   "metadata": {},
   "outputs": [
    {
     "name": "stdout",
     "output_type": "stream",
     "text": [
      "9\n",
      "10\n"
     ]
    }
   ],
   "source": [
    "print(sum(range(5), -1))\n",
    "\n",
    "from numpy import *\n",
    "print(sum(range(5), -1))"
   ]
  },
  {
   "cell_type": "markdown",
   "id": "177120e7",
   "metadata": {},
   "source": [
    "#### 27. Consider an integer vector Z, which of these expressions are legal? (★☆☆)\n",
    "```python\n",
    "Z**Z\n",
    "2 << Z >> 2\n",
    "Z <- Z\n",
    "1j*Z\n",
    "Z/1/1\n",
    "Z<Z>Z\n",
    "```"
   ]
  },
  {
   "cell_type": "code",
   "execution_count": 27,
   "id": "86d6cbef",
   "metadata": {},
   "outputs": [
    {
     "ename": "ValueError",
     "evalue": "The truth value of an array with more than one element is ambiguous. Use a.any() or a.all()",
     "output_type": "error",
     "traceback": [
      "\u001b[0;31m---------------------------------------------------------------------------\u001b[0m",
      "\u001b[0;31mValueError\u001b[0m                                Traceback (most recent call last)",
      "\u001b[1;32m/Users/linchunho/Developer/numpy-100/100_Numpy_solved_by_1chooo.ipynb Cell 58\u001b[0m in \u001b[0;36m<module>\u001b[0;34m\u001b[0m\n\u001b[1;32m      <a href='vscode-notebook-cell:/Users/linchunho/Developer/numpy-100/100_Numpy_solved_by_1chooo.ipynb#Y111sZmlsZQ%3D%3D?line=5'>6</a>\u001b[0m \u001b[39m1\u001b[39mj\u001b[39m*\u001b[39mZ\n\u001b[1;32m      <a href='vscode-notebook-cell:/Users/linchunho/Developer/numpy-100/100_Numpy_solved_by_1chooo.ipynb#Y111sZmlsZQ%3D%3D?line=6'>7</a>\u001b[0m Z\u001b[39m/\u001b[39m\u001b[39m1\u001b[39m\u001b[39m/\u001b[39m\u001b[39m1\u001b[39m\n\u001b[0;32m----> <a href='vscode-notebook-cell:/Users/linchunho/Developer/numpy-100/100_Numpy_solved_by_1chooo.ipynb#Y111sZmlsZQ%3D%3D?line=7'>8</a>\u001b[0m Z\u001b[39m<\u001b[39mZ\u001b[39m>\u001b[39mZ\n",
      "\u001b[0;31mValueError\u001b[0m: The truth value of an array with more than one element is ambiguous. Use a.any() or a.all()"
     ]
    }
   ],
   "source": [
    "Z = np.arange(11)\n",
    "\n",
    "Z**Z        # ValueError: Integers to negative integer powers are not allowed.\n",
    "2 << Z >> 2\n",
    "Z <- Z\n",
    "1j*Z\n",
    "Z/1/1\n",
    "Z<Z>Z"
   ]
  },
  {
   "cell_type": "markdown",
   "id": "a6eaf0e8",
   "metadata": {},
   "source": [
    "#### 28. What are the result of the following expressions? (★☆☆)\n",
    "```python\n",
    "np.array(0) / np.array(0)\n",
    "np.array(0) // np.array(0)\n",
    "np.array([np.nan]).astype(int).astype(float)\n",
    "```"
   ]
  },
  {
   "cell_type": "code",
   "execution_count": 28,
   "id": "93684068",
   "metadata": {},
   "outputs": [
    {
     "name": "stdout",
     "output_type": "stream",
     "text": [
      "nan\n",
      "0\n",
      "[-9.22337204e+18]\n"
     ]
    },
    {
     "name": "stderr",
     "output_type": "stream",
     "text": [
      "/var/folders/nl/l2b2vttd7j73mhvfwrp0lwzr0000gn/T/ipykernel_26533/3912170336.py:1: RuntimeWarning: invalid value encountered in true_divide\n",
      "  print(np.array(0) / np.array(0))\n",
      "/var/folders/nl/l2b2vttd7j73mhvfwrp0lwzr0000gn/T/ipykernel_26533/3912170336.py:2: RuntimeWarning: divide by zero encountered in floor_divide\n",
      "  print(np.array(0) // np.array(0))\n"
     ]
    }
   ],
   "source": [
    "print(np.array(0) / np.array(0))\n",
    "print(np.array(0) // np.array(0))\n",
    "print(np.array([np.nan]).astype(int).astype(float))"
   ]
  },
  {
   "cell_type": "markdown",
   "id": "524b65f8",
   "metadata": {},
   "source": [
    "#### 29. How to round away from zero a float array ? (★☆☆)"
   ]
  },
  {
   "cell_type": "code",
   "execution_count": 29,
   "id": "61fbb78e",
   "metadata": {},
   "outputs": [
    {
     "name": "stdout",
     "output_type": "stream",
     "text": [
      "[ -2.   9.  10.   1. -10.  -8.   7.   7.  -6.  -5.]\n"
     ]
    }
   ],
   "source": [
    "array = np.random.uniform(-10, +10, 10)\n",
    "print (np.copysign(np.ceil(np.abs(array)), array))"
   ]
  },
  {
   "cell_type": "markdown",
   "id": "8dc40752",
   "metadata": {},
   "source": [
    "#### 30. How to find common values between two arrays? (★☆☆)"
   ]
  },
  {
   "cell_type": "code",
   "execution_count": 30,
   "id": "54399cbe",
   "metadata": {},
   "outputs": [
    {
     "name": "stdout",
     "output_type": "stream",
     "text": [
      "[2 6 7 9]\n"
     ]
    }
   ],
   "source": [
    "array_one = np.random.randint(0, 10, 10)\n",
    "array_two = np.random.randint(0, 10, 10)\n",
    "\n",
    "print(np.intersect1d(array_one, array_two))"
   ]
  },
  {
   "cell_type": "markdown",
   "id": "b7f38e21",
   "metadata": {},
   "source": [
    "#### 31. How to ignore all numpy warnings (not recommended)? (★☆☆)"
   ]
  },
  {
   "cell_type": "code",
   "execution_count": 31,
   "id": "2ca3289c",
   "metadata": {},
   "outputs": [
    {
     "ename": "SyntaxError",
     "evalue": "invalid syntax (2548505673.py, line 9)",
     "output_type": "error",
     "traceback": [
      "\u001b[0;36m  Input \u001b[0;32mIn [31]\u001b[0;36m\u001b[0m\n\u001b[0;31m    An equivalent way, with a context manager:\u001b[0m\n\u001b[0m       ^\u001b[0m\n\u001b[0;31mSyntaxError\u001b[0m\u001b[0;31m:\u001b[0m invalid syntax\n"
     ]
    }
   ],
   "source": [
    "\"\"\" Suicide mode on \"\"\"\n",
    "\n",
    "defaults = np.seterr(all= \"ignore\")\n",
    "Z = np.ones(1) / 0\n",
    "\n",
    "# Back to sanity\n",
    "_ = np.seterr(**defaults)\n",
    "\n",
    "# An equivalent way, with a context manager:\n",
    "\n",
    "with np.errstate(divide='ignore'):\n",
    "    Z = np.ones(1) / 0"
   ]
  },
  {
   "cell_type": "markdown",
   "id": "2d850aab",
   "metadata": {},
   "source": [
    "#### 32. Is the following expressions true? (★☆☆)\n",
    "```python\n",
    "np.sqrt(-1) == np.emath.sqrt(-1)\n",
    "```"
   ]
  },
  {
   "cell_type": "code",
   "execution_count": 32,
   "id": "5c83ffce",
   "metadata": {},
   "outputs": [
    {
     "name": "stderr",
     "output_type": "stream",
     "text": [
      "/var/folders/nl/l2b2vttd7j73mhvfwrp0lwzr0000gn/T/ipykernel_26533/244602691.py:1: RuntimeWarning: invalid value encountered in sqrt\n",
      "  np.sqrt(-1) == np.emath.sqrt(-1)\n"
     ]
    },
    {
     "data": {
      "text/plain": [
       "False"
      ]
     },
     "execution_count": 32,
     "metadata": {},
     "output_type": "execute_result"
    }
   ],
   "source": [
    "np.sqrt(-1) == np.emath.sqrt(-1)"
   ]
  },
  {
   "cell_type": "markdown",
   "id": "5c4a556f",
   "metadata": {},
   "source": [
    "#### 33. How to get the dates of yesterday, today and tomorrow? (★☆☆)"
   ]
  },
  {
   "cell_type": "code",
   "execution_count": 33,
   "id": "c3b683a0",
   "metadata": {},
   "outputs": [
    {
     "name": "stdout",
     "output_type": "stream",
     "text": [
      "yesterday: 2022-10-14\n",
      "today: 2022-10-15\n",
      "tomorrow: 2022-10-16\n"
     ]
    }
   ],
   "source": [
    "yesterday = np.datetime64('today', 'D') - np.timedelta64(1, 'D')\n",
    "today     = np.datetime64('today', 'D')\n",
    "tomorrow  = np.datetime64('today', 'D') + np.timedelta64(1, 'D')\n",
    "\n",
    "print(\"yesterday:\", yesterday)\n",
    "print(\"today:\", today)\n",
    "print(\"tomorrow:\", tomorrow)"
   ]
  },
  {
   "cell_type": "markdown",
   "id": "453cdd64",
   "metadata": {},
   "source": [
    "#### 34. How to get all the dates corresponding to the month of July 2016? (★★☆)"
   ]
  },
  {
   "cell_type": "code",
   "execution_count": 34,
   "id": "4ba4d37c",
   "metadata": {},
   "outputs": [
    {
     "name": "stdout",
     "output_type": "stream",
     "text": [
      "['2016-07-01' '2016-07-02' '2016-07-03' '2016-07-04' '2016-07-05'\n",
      " '2016-07-06' '2016-07-07' '2016-07-08' '2016-07-09' '2016-07-10'\n",
      " '2016-07-11' '2016-07-12' '2016-07-13' '2016-07-14' '2016-07-15'\n",
      " '2016-07-16' '2016-07-17' '2016-07-18' '2016-07-19' '2016-07-20'\n",
      " '2016-07-21' '2016-07-22' '2016-07-23' '2016-07-24' '2016-07-25'\n",
      " '2016-07-26' '2016-07-27' '2016-07-28' '2016-07-29' '2016-07-30'\n",
      " '2016-07-31']\n"
     ]
    }
   ],
   "source": [
    "dates = np.arange('2016-07', '2016-08', dtype='datetime64[D]')\n",
    "\n",
    "print(dates)"
   ]
  },
  {
   "cell_type": "markdown",
   "id": "52667b6e",
   "metadata": {},
   "source": [
    "#### 35. How to compute ((A+B)*(-A/2)) in place (without copy)? (★★☆)"
   ]
  },
  {
   "cell_type": "code",
   "execution_count": 35,
   "id": "e6e7c030",
   "metadata": {},
   "outputs": [
    {
     "data": {
      "text/plain": [
       "array([-1.5, -1.5, -1.5])"
      ]
     },
     "execution_count": 35,
     "metadata": {},
     "output_type": "execute_result"
    }
   ],
   "source": [
    "A = np.ones(3) * 1\n",
    "B = np.ones(3) * 2\n",
    "C = np.ones(3) * 3\n",
    "\n",
    "np.add(A, B, out = B)\n",
    "np.divide(A, 2, out = A)\n",
    "np.negative(A, out = A)\n",
    "np.multiply(A, B, out = A)"
   ]
  },
  {
   "cell_type": "markdown",
   "id": "9a8f3738",
   "metadata": {},
   "source": [
    "#### 36. Extract the integer part of a random array of positive numbers using 4 different methods (★★☆)"
   ]
  },
  {
   "cell_type": "code",
   "execution_count": 36,
   "id": "368a801a",
   "metadata": {},
   "outputs": [
    {
     "name": "stdout",
     "output_type": "stream",
     "text": [
      "[1. 4. 0. 1. 2. 8. 0. 4. 2. 4.]\n",
      "[1. 4. 0. 1. 2. 8. 0. 4. 2. 4.]\n",
      "[1. 4. 0. 1. 2. 8. 0. 4. 2. 4.]\n",
      "[1 4 0 1 2 8 0 4 2 4]\n",
      "[1. 4. 0. 1. 2. 8. 0. 4. 2. 4.]\n"
     ]
    }
   ],
   "source": [
    "random_array = np.random.uniform(0, 10, 10)\n",
    "\n",
    "print(random_array - random_array % 1)\n",
    "print(np.floor(random_array))\n",
    "print(np.ceil(random_array) - 1)\n",
    "print(random_array.astype(int))\n",
    "print(np.trunc(random_array))"
   ]
  },
  {
   "cell_type": "markdown",
   "id": "cab1eed1",
   "metadata": {},
   "source": [
    "#### 37. Create a 5x5 matrix with row values ranging from 0 to 4 (★★☆)"
   ]
  },
  {
   "cell_type": "code",
   "execution_count": 37,
   "id": "f1b579ba",
   "metadata": {},
   "outputs": [
    {
     "name": "stdout",
     "output_type": "stream",
     "text": [
      "[[0. 1. 2. 3. 4.]\n",
      " [0. 1. 2. 3. 4.]\n",
      " [0. 1. 2. 3. 4.]\n",
      " [0. 1. 2. 3. 4.]\n",
      " [0. 1. 2. 3. 4.]]\n"
     ]
    }
   ],
   "source": [
    "five_by_five_matrix = np.zeros([5, 5])\n",
    "five_by_five_matrix += np.arange(5)\n",
    "\n",
    "print(five_by_five_matrix)"
   ]
  },
  {
   "cell_type": "markdown",
   "id": "cd0ce6b1",
   "metadata": {},
   "source": [
    "#### 38. Consider a generator function that generates 10 integers and use it to build an array (★☆☆)"
   ]
  },
  {
   "cell_type": "code",
   "execution_count": 38,
   "id": "aab193a6",
   "metadata": {},
   "outputs": [
    {
     "name": "stdout",
     "output_type": "stream",
     "text": [
      "[0. 1. 2. 3. 4. 5. 6. 7. 8. 9.]\n"
     ]
    }
   ],
   "source": [
    "def generate() :\n",
    "    for i in range(10) :\n",
    "        yield i     # it will remember the last result.\n",
    "\n",
    "array = np.fromiter(generate(), dtype = float, count = -1)\n",
    "\n",
    "print(array)"
   ]
  },
  {
   "cell_type": "markdown",
   "id": "c4c942d1",
   "metadata": {},
   "source": [
    "#### 39. Create a vector of size 10 with values ranging from 0 to 1, both excluded (★★☆)"
   ]
  },
  {
   "cell_type": "code",
   "execution_count": 39,
   "id": "e42eaa4b",
   "metadata": {},
   "outputs": [
    {
     "name": "stdout",
     "output_type": "stream",
     "text": [
      "[0.09090909 0.18181818 0.27272727 0.36363636 0.45454545 0.54545455\n",
      " 0.63636364 0.72727273 0.81818182 0.90909091]\n"
     ]
    }
   ],
   "source": [
    "vector = np.linspace(0, 1, 11, endpoint = False) [1:]\n",
    "\n",
    "print(vector)"
   ]
  },
  {
   "cell_type": "markdown",
   "id": "9b3cb8d2",
   "metadata": {},
   "source": [
    "#### 40. Create a random vector of size 10 and sort it (★★☆)"
   ]
  },
  {
   "cell_type": "code",
   "execution_count": 40,
   "id": "37d2b341",
   "metadata": {},
   "outputs": [
    {
     "name": "stdout",
     "output_type": "stream",
     "text": [
      "[0.29562631 0.30141455 0.36232685 0.68104718 0.74139418 0.76296562\n",
      " 0.81938755 0.88649027 0.89378551 0.89770603]\n"
     ]
    }
   ],
   "source": [
    "random_vector = np.random.random(10)\n",
    "random_vector.sort()\n",
    "\n",
    "print(random_vector)"
   ]
  },
  {
   "cell_type": "markdown",
   "id": "2facfddc",
   "metadata": {},
   "source": [
    "#### 41. How to sum a small array faster than np.sum? (★★☆)"
   ]
  },
  {
   "cell_type": "code",
   "execution_count": 41,
   "id": "4bb8864f",
   "metadata": {},
   "outputs": [
    {
     "data": {
      "text/plain": [
       "45"
      ]
     },
     "execution_count": 41,
     "metadata": {},
     "output_type": "execute_result"
    }
   ],
   "source": [
    "small_array = np.arange(10)\n",
    "\n",
    "np.add.reduce(small_array)"
   ]
  },
  {
   "cell_type": "markdown",
   "id": "539cd2a5",
   "metadata": {},
   "source": [
    "#### 42. Consider two random array A and B, check if they are equal (★★☆)"
   ]
  },
  {
   "cell_type": "code",
   "execution_count": 42,
   "id": "5246d7bf",
   "metadata": {},
   "outputs": [
    {
     "name": "stdout",
     "output_type": "stream",
     "text": [
      "False\n",
      "False\n"
     ]
    }
   ],
   "source": [
    "array_A = np.random.randint(0, 2, 5)\n",
    "array_B = np.random.randint(0, 2, 5)\n",
    "\n",
    "# Assuming identical shape of the arrays and a tolerance for the comparison of values\n",
    "equal = np.allclose(array_A, array_B)\n",
    "print(equal)\n",
    "\n",
    "# Checking both the shape and the element values, no tolerance (values have to be exactly equal)\n",
    "equal = np.array_equal(array_A, array_B)\n",
    "print(equal)"
   ]
  },
  {
   "cell_type": "markdown",
   "id": "448f8274",
   "metadata": {},
   "source": [
    "#### 43. Make an array immutable (read-only) (★★☆)"
   ]
  },
  {
   "cell_type": "code",
   "execution_count": 43,
   "id": "7cf2b3dd",
   "metadata": {},
   "outputs": [
    {
     "ename": "ValueError",
     "evalue": "assignment destination is read-only",
     "output_type": "error",
     "traceback": [
      "\u001b[0;31m---------------------------------------------------------------------------\u001b[0m",
      "\u001b[0;31mValueError\u001b[0m                                Traceback (most recent call last)",
      "\u001b[1;32m/Users/linchunho/Developer/numpy-100/100_Numpy_solved_by_1chooo.ipynb Cell 90\u001b[0m in \u001b[0;36m<module>\u001b[0;34m\u001b[0m\n\u001b[1;32m      <a href='vscode-notebook-cell:/Users/linchunho/Developer/numpy-100/100_Numpy_solved_by_1chooo.ipynb#Y155sZmlsZQ%3D%3D?line=0'>1</a>\u001b[0m array \u001b[39m=\u001b[39m np\u001b[39m.\u001b[39mones(\u001b[39m10\u001b[39m)\n\u001b[1;32m      <a href='vscode-notebook-cell:/Users/linchunho/Developer/numpy-100/100_Numpy_solved_by_1chooo.ipynb#Y155sZmlsZQ%3D%3D?line=1'>2</a>\u001b[0m array\u001b[39m.\u001b[39mflags\u001b[39m.\u001b[39mwriteable \u001b[39m=\u001b[39m \u001b[39mFalse\u001b[39;00m\n\u001b[0;32m----> <a href='vscode-notebook-cell:/Users/linchunho/Developer/numpy-100/100_Numpy_solved_by_1chooo.ipynb#Y155sZmlsZQ%3D%3D?line=3'>4</a>\u001b[0m array[\u001b[39m0\u001b[39m] \u001b[39m=\u001b[39m \u001b[39m1\u001b[39m\n",
      "\u001b[0;31mValueError\u001b[0m: assignment destination is read-only"
     ]
    }
   ],
   "source": [
    "array = np.ones(10)\n",
    "array.flags.writeable = False\n",
    "\n",
    "array[0] = 1"
   ]
  },
  {
   "cell_type": "markdown",
   "id": "d7b7aaf3",
   "metadata": {},
   "source": [
    "#### 44. Consider a random 10x2 matrix representing cartesian coordinates, convert them to polar coordinates (★★☆)"
   ]
  },
  {
   "cell_type": "code",
   "execution_count": 44,
   "id": "e2337585",
   "metadata": {},
   "outputs": [
    {
     "name": "stdout",
     "output_type": "stream",
     "text": [
      "[1.01480681 1.30434779 0.85678743 1.01987702 0.7821137  0.58756283\n",
      " 0.06197266 0.45457994 0.82275839 0.74737707]\n",
      "[0.71001343 0.7024462  0.22504653 0.54472016 0.7278704  0.76522205\n",
      " 0.64773266 0.34027314 1.47003985 0.0988668 ]\n"
     ]
    }
   ],
   "source": [
    "random_10x2_matrix = np.random.random([10, 2])\n",
    "X, Y = random_10x2_matrix[:, 0], random_10x2_matrix[:, 1]\n",
    "R = np.sqrt(X ** 2 + Y ** 2)\n",
    "T = np.arctan2(Y, X)\n",
    "\n",
    "print(R)\n",
    "print(T)"
   ]
  },
  {
   "cell_type": "markdown",
   "id": "a556027a",
   "metadata": {},
   "source": [
    "#### 45. Create random vector of size 10 and replace the maximum value by 0 (★★☆)"
   ]
  },
  {
   "cell_type": "code",
   "execution_count": 45,
   "id": "9e07cb87",
   "metadata": {},
   "outputs": [
    {
     "name": "stdout",
     "output_type": "stream",
     "text": [
      "[0.53962518 0.12265965 0.53046465 0.37737009 0.27043392 0.09548846\n",
      " 0.5201836  0.11351569 0.         0.31225641]\n"
     ]
    }
   ],
   "source": [
    "random_vector = np.random.random(10)\n",
    "random_vector[random_vector.argmax()] = 0\n",
    "\n",
    "print(random_vector)"
   ]
  },
  {
   "cell_type": "markdown",
   "id": "004f3da1",
   "metadata": {},
   "source": [
    "#### 46. Create a structured array with `x` and `y` coordinates covering the [0,1]x[0,1] area (★★☆)"
   ]
  },
  {
   "cell_type": "code",
   "execution_count": 46,
   "id": "b3824741",
   "metadata": {},
   "outputs": [
    {
     "name": "stdout",
     "output_type": "stream",
     "text": [
      "[[(0.  , 0.  ) (0.25, 0.  ) (0.5 , 0.  ) (0.75, 0.  ) (1.  , 0.  )]\n",
      " [(0.  , 0.25) (0.25, 0.25) (0.5 , 0.25) (0.75, 0.25) (1.  , 0.25)]\n",
      " [(0.  , 0.5 ) (0.25, 0.5 ) (0.5 , 0.5 ) (0.75, 0.5 ) (1.  , 0.5 )]\n",
      " [(0.  , 0.75) (0.25, 0.75) (0.5 , 0.75) (0.75, 0.75) (1.  , 0.75)]\n",
      " [(0.  , 1.  ) (0.25, 1.  ) (0.5 , 1.  ) (0.75, 1.  ) (1.  , 1.  )]]\n"
     ]
    }
   ],
   "source": [
    "structured_array = np.zeros([5, 5], [('x', float), ('y', float)])\n",
    "structured_array['x'], structured_array['y'] = np.meshgrid(np.linspace(0, 1, 5), \n",
    "                                                           np.linspace(0, 1, 5))\n",
    "\n",
    "print(structured_array)"
   ]
  },
  {
   "cell_type": "markdown",
   "id": "1c0adc0d",
   "metadata": {},
   "source": [
    "#### 47. Given two arrays, X and Y, construct the Cauchy matrix C (Cij =1/(xi - yj)) (★★☆)"
   ]
  },
  {
   "cell_type": "code",
   "execution_count": 47,
   "id": "01b3bbb7",
   "metadata": {},
   "outputs": [
    {
     "name": "stdout",
     "output_type": "stream",
     "text": [
      "3638.163637117973\n"
     ]
    }
   ],
   "source": [
    "array_X = np.arange(8)\n",
    "array_Y = array_X + 0.5\n",
    "\n",
    "cauchy_matrix_C = 1.0 / np.subtract.outer(array_X, array_Y)\n",
    "\n",
    "print(np.linalg.det(cauchy_matrix_C))"
   ]
  },
  {
   "cell_type": "markdown",
   "id": "c8a2f65a",
   "metadata": {},
   "source": [
    "#### 48. Print the minimum and maximum representable value for each numpy scalar type (★★☆)"
   ]
  },
  {
   "cell_type": "code",
   "execution_count": 48,
   "id": "35d844d6",
   "metadata": {},
   "outputs": [
    {
     "name": "stdout",
     "output_type": "stream",
     "text": [
      "-128\n",
      "127\n",
      "-2147483648\n",
      "2147483647\n",
      "-9223372036854775808\n",
      "9223372036854775807\n",
      "-3.4028235e+38\n",
      "3.4028235e+38\n",
      "1.1920929e-07\n",
      "-1.7976931348623157e+308\n",
      "1.7976931348623157e+308\n",
      "2.220446049250313e-16\n"
     ]
    }
   ],
   "source": [
    "for dtype in [np.int8, np.int32, np.int64]:\n",
    "   print(np.iinfo(dtype).min)\n",
    "   print(np.iinfo(dtype).max)\n",
    "   \n",
    "for dtype in [np.float32, np.float64]:\n",
    "   print(np.finfo(dtype).min)\n",
    "   print(np.finfo(dtype).max)\n",
    "   print(np.finfo(dtype).eps)"
   ]
  },
  {
   "cell_type": "markdown",
   "id": "11727a69",
   "metadata": {},
   "source": [
    "#### 49. How to print all the values of an array? (★★☆)"
   ]
  },
  {
   "cell_type": "code",
   "execution_count": 49,
   "id": "47e98473",
   "metadata": {},
   "outputs": [
    {
     "name": "stdout",
     "output_type": "stream",
     "text": [
      "[[0. 0. 0. 0. 0. 0. 0. 0. 0. 0. 0. 0. 0. 0. 0. 0.]\n",
      " [0. 0. 0. 0. 0. 0. 0. 0. 0. 0. 0. 0. 0. 0. 0. 0.]\n",
      " [0. 0. 0. 0. 0. 0. 0. 0. 0. 0. 0. 0. 0. 0. 0. 0.]\n",
      " [0. 0. 0. 0. 0. 0. 0. 0. 0. 0. 0. 0. 0. 0. 0. 0.]\n",
      " [0. 0. 0. 0. 0. 0. 0. 0. 0. 0. 0. 0. 0. 0. 0. 0.]\n",
      " [0. 0. 0. 0. 0. 0. 0. 0. 0. 0. 0. 0. 0. 0. 0. 0.]\n",
      " [0. 0. 0. 0. 0. 0. 0. 0. 0. 0. 0. 0. 0. 0. 0. 0.]\n",
      " [0. 0. 0. 0. 0. 0. 0. 0. 0. 0. 0. 0. 0. 0. 0. 0.]\n",
      " [0. 0. 0. 0. 0. 0. 0. 0. 0. 0. 0. 0. 0. 0. 0. 0.]\n",
      " [0. 0. 0. 0. 0. 0. 0. 0. 0. 0. 0. 0. 0. 0. 0. 0.]\n",
      " [0. 0. 0. 0. 0. 0. 0. 0. 0. 0. 0. 0. 0. 0. 0. 0.]\n",
      " [0. 0. 0. 0. 0. 0. 0. 0. 0. 0. 0. 0. 0. 0. 0. 0.]\n",
      " [0. 0. 0. 0. 0. 0. 0. 0. 0. 0. 0. 0. 0. 0. 0. 0.]\n",
      " [0. 0. 0. 0. 0. 0. 0. 0. 0. 0. 0. 0. 0. 0. 0. 0.]\n",
      " [0. 0. 0. 0. 0. 0. 0. 0. 0. 0. 0. 0. 0. 0. 0. 0.]\n",
      " [0. 0. 0. 0. 0. 0. 0. 0. 0. 0. 0. 0. 0. 0. 0. 0.]]\n"
     ]
    }
   ],
   "source": [
    "# np.set_printoptions(threshold = np.nan)\n",
    "array = np.zeros([16, 16])\n",
    "\n",
    "print(array)"
   ]
  },
  {
   "cell_type": "markdown",
   "id": "e0e7d741",
   "metadata": {},
   "source": [
    "#### 50. How to find the closest value (to a given scalar) in a vector? (★★☆)"
   ]
  },
  {
   "cell_type": "code",
   "execution_count": 50,
   "id": "62cabf6f",
   "metadata": {},
   "outputs": [
    {
     "name": "stdout",
     "output_type": "stream",
     "text": [
      "89\n"
     ]
    }
   ],
   "source": [
    "vector = np.arange(100)\n",
    "given_scalar = np.random.uniform(0,100)\n",
    "index = (np.abs(vector - given_scalar)).argmin()\n",
    "\n",
    "print(vector[index])"
   ]
  },
  {
   "cell_type": "markdown",
   "id": "c5611b9e",
   "metadata": {},
   "source": [
    "#### 51. Create a structured array representing a position (x,y) and a color (r,g,b) (★★☆)"
   ]
  },
  {
   "cell_type": "code",
   "execution_count": 51,
   "id": "f622939d",
   "metadata": {},
   "outputs": [
    {
     "name": "stdout",
     "output_type": "stream",
     "text": [
      "[((0., 0.), (0., 0., 0.)) ((0., 0.), (0., 0., 0.))\n",
      " ((0., 0.), (0., 0., 0.)) ((0., 0.), (0., 0., 0.))\n",
      " ((0., 0.), (0., 0., 0.)) ((0., 0.), (0., 0., 0.))\n",
      " ((0., 0.), (0., 0., 0.)) ((0., 0.), (0., 0., 0.))\n",
      " ((0., 0.), (0., 0., 0.)) ((0., 0.), (0., 0., 0.))]\n"
     ]
    },
    {
     "name": "stderr",
     "output_type": "stream",
     "text": [
      "/var/folders/nl/l2b2vttd7j73mhvfwrp0lwzr0000gn/T/ipykernel_26533/2852028742.py:1: FutureWarning: Passing (type, 1) or '1type' as a synonym of type is deprecated; in a future version of numpy, it will be understood as (type, (1,)) / '(1,)type'.\n",
      "  structured_array = np.zeros(10, [ ('position', [ ('x', float, 1),\n"
     ]
    }
   ],
   "source": [
    "structured_array = np.zeros(10, [ ('position', [ ('x', float, 1),\n",
    "                                                                ('y', float, 1)]),\n",
    "                                                 ('color',    [ ('r', float, 1),\n",
    "                                                                ('g', float, 1),\n",
    "                                                                ('b', float, 1)])])\n",
    "print(structured_array)"
   ]
  },
  {
   "cell_type": "markdown",
   "id": "d22b8574",
   "metadata": {},
   "source": [
    "#### 52. Consider a random vector with shape (100,2) representing coordinates, find point by point distances (★★☆)"
   ]
  },
  {
   "cell_type": "code",
   "execution_count": 52,
   "id": "d5c9cdf8",
   "metadata": {},
   "outputs": [
    {
     "name": "stdout",
     "output_type": "stream",
     "text": [
      "[[0.         0.24029605 0.32399006 0.71564143 0.93297548 0.82540135\n",
      "  0.43899618 0.34184506 0.7152065  0.59269309]\n",
      " [0.24029605 0.         0.08725422 0.71089224 0.9037871  0.82751851\n",
      "  0.25976581 0.2457727  0.52347733 0.71314615]\n",
      " [0.32399006 0.08725422 0.         0.70016494 0.87984911 0.81646117\n",
      "  0.19857207 0.23322368 0.44611709 0.74710704]\n",
      " [0.71564143 0.71089224 0.70016494 0.         0.22320876 0.11668597\n",
      "  0.54352183 0.46871989 0.58636437 0.37193499]\n",
      " [0.93297548 0.9037871  0.87984911 0.22320876 0.         0.14674762\n",
      "  0.7012423  0.65801473 0.65976675 0.56034412]\n",
      " [0.82540135 0.82751851 0.81646117 0.11668597 0.14674762 0.\n",
      "  0.65628176 0.58533801 0.67469124 0.41378945]\n",
      " [0.43899618 0.25976581 0.19857207 0.54352183 0.7012423  0.65628176\n",
      "  0.         0.14569445 0.27636644 0.67752136]\n",
      " [0.34184506 0.2457727  0.23322368 0.46871989 0.65801473 0.58533801\n",
      "  0.14569445 0.         0.39549942 0.541881  ]\n",
      " [0.7152065  0.52347733 0.44611709 0.58636437 0.65976675 0.67469124\n",
      "  0.27636644 0.39549942 0.         0.84293088]\n",
      " [0.59269309 0.71314615 0.74710704 0.37193499 0.56034412 0.41378945\n",
      "  0.67752136 0.541881   0.84293088 0.        ]]\n"
     ]
    }
   ],
   "source": [
    "vector = np.random.random([10, 2])\n",
    "X, Y = np.atleast_2d(vector[:, 0], vector[:, 1])\n",
    "distance = np.sqrt((X - X.T) ** 2 + (Y - Y.T) ** 2)\n",
    "\n",
    "print(distance)"
   ]
  },
  {
   "cell_type": "code",
   "execution_count": 41,
   "id": "b1f2cb95",
   "metadata": {},
   "outputs": [
    {
     "name": "stdout",
     "output_type": "stream",
     "text": [
      "[[0.         0.22043881 0.38177034 0.62737191 0.57757747 0.16906734\n",
      "  0.43876016 0.26697891 0.32683113 0.22569134]\n",
      " [0.22043881 0.         0.38495759 0.8471298  0.59167518 0.18099428\n",
      "  0.47892191 0.33198389 0.47745185 0.20483195]\n",
      " [0.38177034 0.38495759 0.         0.84390601 0.20827669 0.50292432\n",
      "  0.10538827 0.638605   0.28225688 0.18489065]\n",
      " [0.62737191 0.8471298  0.84390601 0.         0.94010706 0.72973977\n",
      "  0.81824157 0.67954201 0.57195806 0.79295728]\n",
      " [0.57757747 0.59167518 0.20827669 0.94010706 0.         0.70928633\n",
      "  0.14270367 0.84058992 0.37522093 0.3931592 ]\n",
      " [0.16906734 0.18099428 0.50292432 0.72973977 0.70928633 0.\n",
      "  0.57848997 0.15230503 0.49521505 0.32123207]\n",
      " [0.43876016 0.47892191 0.10538827 0.81824157 0.14270367 0.57848997\n",
      "  0.         0.70404621 0.24647596 0.27434088]\n",
      " [0.26697891 0.33198389 0.638605   0.67954201 0.84058992 0.15230503\n",
      "  0.70404621 0.         0.57929104 0.46308664]\n",
      " [0.32683113 0.47745185 0.28225688 0.57195806 0.37522093 0.49521505\n",
      "  0.24647596 0.57929104 0.         0.31108592]\n",
      " [0.22569134 0.20483195 0.18489065 0.79295728 0.3931592  0.32123207\n",
      "  0.27434088 0.46308664 0.31108592 0.        ]]\n"
     ]
    }
   ],
   "source": [
    "# Much faster with scipy\n",
    "import scipy\n",
    "# Thanks Gavin Heverly-Coulson (#issue 1)\n",
    "import scipy.spatial\n",
    "\n",
    "vector = np.random.random((10,2))\n",
    "distance = scipy.spatial.distance.cdist(vector,vector)\n",
    "print(distance)"
   ]
  },
  {
   "cell_type": "markdown",
   "id": "f5c164f2",
   "metadata": {},
   "source": [
    "#### 53. How to convert a float (32 bits) array into an integer (32 bits) in place?"
   ]
  },
  {
   "cell_type": "code",
   "execution_count": 53,
   "id": "ea262de8",
   "metadata": {},
   "outputs": [
    {
     "name": "stdout",
     "output_type": "stream",
     "text": [
      "[0 1 2 3 4 5 6 7 8 9]\n"
     ]
    }
   ],
   "source": [
    "array = np.arange(10, dtype = np.float32)\n",
    "array = array.astype(np.int32, copy = False)\n",
    "\n",
    "print(array)"
   ]
  },
  {
   "cell_type": "markdown",
   "id": "a8b7e6f5",
   "metadata": {},
   "source": [
    "#### 54. How to read the following file? (★★☆)\n",
    "```\n",
    "1, 2, 3, 4, 5\n",
    "6,  ,  , 7, 8\n",
    " ,  , 9,10,11\n",
    "```"
   ]
  },
  {
   "cell_type": "code",
   "execution_count": 54,
   "id": "bde0538a",
   "metadata": {},
   "outputs": [
    {
     "name": "stdout",
     "output_type": "stream",
     "text": [
      "[[ 1  2  3  4  5]\n",
      " [ 6 -1 -1  7  8]\n",
      " [-1 -1  9 10 11]]\n"
     ]
    },
    {
     "name": "stderr",
     "output_type": "stream",
     "text": [
      "/var/folders/nl/l2b2vttd7j73mhvfwrp0lwzr0000gn/T/ipykernel_26533/3414768419.py:8: DeprecationWarning: `np.int` is a deprecated alias for the builtin `int`. To silence this warning, use `int` by itself. Doing this will not modify any behavior and is safe. When replacing `np.int`, you may wish to use e.g. `np.int64` or `np.int32` to specify the precision. If you wish to review your current use, check the release note link for additional information.\n",
      "Deprecated in NumPy 1.20; for more details and guidance: https://numpy.org/devdocs/release/1.20.0-notes.html#deprecations\n",
      "  temp = np.genfromtxt(data, delimiter = \",\", dtype = np.int)\n"
     ]
    }
   ],
   "source": [
    "from io import StringIO\n",
    "\n",
    "# Fake file \n",
    "data = StringIO(\"\"\"1, 2, 3, 4, 5\\n\n",
    "                6,  ,  , 7, 8\\n\n",
    "                 ,  , 9,10,11\\n\"\"\")\n",
    "\n",
    "temp = np.genfromtxt(data, delimiter = \",\", dtype = np.int)\n",
    "print(temp)"
   ]
  },
  {
   "cell_type": "markdown",
   "id": "c6b32834",
   "metadata": {},
   "source": [
    "#### 55. What is the equivalent of enumerate for numpy arrays? (★★☆)"
   ]
  },
  {
   "cell_type": "code",
   "execution_count": 55,
   "id": "ab02472a",
   "metadata": {},
   "outputs": [
    {
     "name": "stdout",
     "output_type": "stream",
     "text": [
      "(0, 0) 0\n",
      "(0, 1) 1\n",
      "(0, 2) 2\n",
      "(1, 0) 3\n",
      "(1, 1) 4\n",
      "(1, 2) 5\n",
      "(2, 0) 6\n",
      "(2, 1) 7\n",
      "(2, 2) 8\n",
      "(0, 0) 0\n",
      "(0, 1) 1\n",
      "(0, 2) 2\n",
      "(1, 0) 3\n",
      "(1, 1) 4\n",
      "(1, 2) 5\n",
      "(2, 0) 6\n",
      "(2, 1) 7\n",
      "(2, 2) 8\n"
     ]
    }
   ],
   "source": [
    "array = np.arange(9).reshape(3, 3)\n",
    "\n",
    "for index, value in np.ndenumerate(array):\n",
    "    print(index, value)\n",
    "    \n",
    "for index in np.ndindex(array.shape):\n",
    "    print(index, array[index])"
   ]
  },
  {
   "cell_type": "markdown",
   "id": "a2121a05",
   "metadata": {},
   "source": [
    "#### 56. Generate a generic 2D Gaussian-like array (★★☆)"
   ]
  },
  {
   "cell_type": "code",
   "execution_count": 56,
   "id": "18507102",
   "metadata": {},
   "outputs": [
    {
     "name": "stdout",
     "output_type": "stream",
     "text": [
      "[[0.36787944 0.44822088 0.51979489 0.57375342 0.60279818 0.60279818\n",
      "  0.57375342 0.51979489 0.44822088 0.36787944]\n",
      " [0.44822088 0.54610814 0.63331324 0.69905581 0.73444367 0.73444367\n",
      "  0.69905581 0.63331324 0.54610814 0.44822088]\n",
      " [0.51979489 0.63331324 0.73444367 0.81068432 0.85172308 0.85172308\n",
      "  0.81068432 0.73444367 0.63331324 0.51979489]\n",
      " [0.57375342 0.69905581 0.81068432 0.89483932 0.9401382  0.9401382\n",
      "  0.89483932 0.81068432 0.69905581 0.57375342]\n",
      " [0.60279818 0.73444367 0.85172308 0.9401382  0.98773022 0.98773022\n",
      "  0.9401382  0.85172308 0.73444367 0.60279818]\n",
      " [0.60279818 0.73444367 0.85172308 0.9401382  0.98773022 0.98773022\n",
      "  0.9401382  0.85172308 0.73444367 0.60279818]\n",
      " [0.57375342 0.69905581 0.81068432 0.89483932 0.9401382  0.9401382\n",
      "  0.89483932 0.81068432 0.69905581 0.57375342]\n",
      " [0.51979489 0.63331324 0.73444367 0.81068432 0.85172308 0.85172308\n",
      "  0.81068432 0.73444367 0.63331324 0.51979489]\n",
      " [0.44822088 0.54610814 0.63331324 0.69905581 0.73444367 0.73444367\n",
      "  0.69905581 0.63331324 0.54610814 0.44822088]\n",
      " [0.36787944 0.44822088 0.51979489 0.57375342 0.60279818 0.60279818\n",
      "  0.57375342 0.51979489 0.44822088 0.36787944]]\n"
     ]
    }
   ],
   "source": [
    "X, Y = np.meshgrid(np.linspace(-1, 1, 10), np.linspace(-1, 1, 10))\n",
    "distance = np.sqrt(X * X + Y * Y)\n",
    "sigma, mu = 1.0, 0.0\n",
    "gaussian = np.exp(-((distance - mu) ** 2 / ( 2.0 * sigma ** 2)))\n",
    "\n",
    "print(gaussian)"
   ]
  },
  {
   "cell_type": "markdown",
   "id": "97055efa",
   "metadata": {},
   "source": [
    "#### 57. How to randomly place p elements in a 2D array? (★★☆)"
   ]
  },
  {
   "cell_type": "code",
   "execution_count": 57,
   "id": "292e842f",
   "metadata": {},
   "outputs": [
    {
     "name": "stdout",
     "output_type": "stream",
     "text": [
      "[[0. 0. 0. 0. 0. 0. 0. 0. 0. 0.]\n",
      " [0. 1. 0. 0. 0. 0. 0. 0. 0. 0.]\n",
      " [0. 0. 0. 0. 0. 0. 0. 0. 0. 0.]\n",
      " [0. 0. 1. 0. 0. 0. 0. 0. 0. 0.]\n",
      " [0. 0. 0. 0. 0. 0. 0. 0. 0. 0.]\n",
      " [0. 0. 0. 0. 0. 0. 0. 0. 0. 0.]\n",
      " [0. 0. 1. 0. 0. 0. 0. 0. 0. 0.]\n",
      " [0. 0. 0. 0. 0. 0. 0. 1. 0. 0.]\n",
      " [1. 0. 0. 0. 0. 0. 0. 0. 0. 0.]\n",
      " [0. 0. 0. 0. 0. 0. 0. 0. 0. 0.]]\n"
     ]
    }
   ],
   "source": [
    "col, row = 10, 10\n",
    "num = 5\n",
    "array = np.zeros([col, row])\n",
    "\n",
    "np.put(array, np.random.choice(range(col * row), num, replace = False), 1)\n",
    "\n",
    "print(array)"
   ]
  },
  {
   "cell_type": "markdown",
   "id": "bfd2513c",
   "metadata": {},
   "source": [
    "#### 58. Subtract the mean of each row of a matrix (★★☆)"
   ]
  },
  {
   "cell_type": "code",
   "execution_count": 59,
   "id": "f306ab72",
   "metadata": {},
   "outputs": [
    {
     "name": "stdout",
     "output_type": "stream",
     "text": [
      "[[ 0.35543975 -0.02344299  0.26107238  0.29550172 -0.42486485  0.27156897\n",
      "  -0.34681225  0.05375877 -0.20559634 -0.23662518]\n",
      " [-0.10468723  0.3823732   0.37726256 -0.48295392  0.14587432  0.2950408\n",
      "  -0.04946427  0.31192313 -0.31523999 -0.5601286 ]\n",
      " [-0.29484658 -0.24449515  0.3848488   0.25668285 -0.19097089  0.0557127\n",
      "   0.16782351  0.22908705 -0.2607475  -0.10309477]\n",
      " [-0.08347599  0.29502018  0.01923124  0.26555882  0.01772633 -0.15797039\n",
      "  -0.42014829  0.2603763   0.06712599 -0.26344418]\n",
      " [-0.19445156 -0.34462517 -0.04126435  0.06141782 -0.09587959  0.40090326\n",
      "  -0.12515436  0.27709771 -0.09134199  0.15329822]]\n"
     ]
    }
   ],
   "source": [
    "# recent version\n",
    "array = np.random.rand(5, 10)\n",
    "\n",
    "subtract_mean = array - array.mean(axis = 1, keepdims = True)\n",
    "\n",
    "print(subtract_mean)"
   ]
  },
  {
   "cell_type": "code",
   "execution_count": 60,
   "id": "1b9ab314",
   "metadata": {},
   "outputs": [
    {
     "name": "stdout",
     "output_type": "stream",
     "text": [
      "[[-0.30407445  0.18418523  0.30697399 -0.16387172  0.37160198  0.25246537\n",
      "  -0.33450473 -0.10302847 -0.0103291  -0.1994181 ]\n",
      " [ 0.22719946  0.24299888  0.22278301  0.26718793  0.098115   -0.29265\n",
      "  -0.52981926 -0.10629027  0.36139209 -0.49091686]\n",
      " [ 0.12868067 -0.43171272 -0.17262437  0.4364527  -0.26787606  0.04463495\n",
      "  -0.01473283  0.14708603 -0.1215337   0.25162533]\n",
      " [-0.29845139 -0.34069868  0.11572804 -0.35197856 -0.02073298  0.30611059\n",
      "  -0.11179879  0.49613637 -0.31972156  0.52540696]\n",
      " [-0.04923516 -0.06121467 -0.20767324 -0.20594452 -0.2540287   0.18620687\n",
      "  -0.4001725   0.09038074  0.36999351  0.53168767]]\n"
     ]
    }
   ],
   "source": [
    "# previous version\n",
    "array = np.random.rand(5, 10)\n",
    "\n",
    "subtract_mean = array - array.mean(axis = 1).reshape(-1, 1)\n",
    "\n",
    "print(subtract_mean)"
   ]
  },
  {
   "cell_type": "markdown",
   "id": "da9f2f9b",
   "metadata": {},
   "source": [
    "#### 59. How to sort an array by the nth column? (★★☆)"
   ]
  },
  {
   "cell_type": "code",
   "execution_count": 61,
   "id": "68cde57f",
   "metadata": {},
   "outputs": [
    {
     "name": "stdout",
     "output_type": "stream",
     "text": [
      "[[1 1 0]\n",
      " [2 5 5]\n",
      " [0 7 4]]\n",
      "[[1 1 0]\n",
      " [2 5 5]\n",
      " [0 7 4]]\n"
     ]
    }
   ],
   "source": [
    "array = np.random.randint(0, 10, [3, 3])\n",
    "\n",
    "print(array)\n",
    "print(array[array[:, 1].argsort()])"
   ]
  },
  {
   "cell_type": "markdown",
   "id": "5b7be45c",
   "metadata": {},
   "source": [
    "#### 60. How to tell if a given 2D array has null columns? (★★☆)"
   ]
  },
  {
   "cell_type": "code",
   "execution_count": 62,
   "id": "7dbe2c27",
   "metadata": {},
   "outputs": [
    {
     "name": "stdout",
     "output_type": "stream",
     "text": [
      "True\n"
     ]
    }
   ],
   "source": [
    "two_D_array = np.random.randint(0, 3, [3, 10])\n",
    "\n",
    "print((~two_D_array.any(axis=0)).any())"
   ]
  },
  {
   "cell_type": "markdown",
   "id": "7c18c02e",
   "metadata": {},
   "source": [
    "#### 61. Find the nearest value from a given value in an array (★★☆)"
   ]
  },
  {
   "cell_type": "code",
   "execution_count": 63,
   "id": "b78ae9c4",
   "metadata": {},
   "outputs": [
    {
     "name": "stdout",
     "output_type": "stream",
     "text": [
      "0.46814223654813436\n"
     ]
    }
   ],
   "source": [
    "array = np.random.uniform(0, 1, 10)\n",
    "given_value = 0.5\n",
    "nearest_value = array.flat[np.abs(array - given_value).argmin()]\n",
    "\n",
    "print(nearest_value)"
   ]
  },
  {
   "cell_type": "markdown",
   "id": "8174ba2c",
   "metadata": {},
   "source": [
    "#### 62. Considering two arrays with shape (1,3) and (3,1), how to compute their sum using an iterator? (★★☆)"
   ]
  },
  {
   "cell_type": "code",
   "execution_count": 64,
   "id": "8a18fe57",
   "metadata": {},
   "outputs": [
    {
     "name": "stdout",
     "output_type": "stream",
     "text": [
      "[[0 1 2]\n",
      " [1 2 3]\n",
      " [2 3 4]]\n"
     ]
    }
   ],
   "source": [
    "array_one = np.arange(3).reshape(3, 1)\n",
    "array_two = np.arange(3).reshape(1, 3)\n",
    "iter = np.nditer([array_one, array_two,None])\n",
    "\n",
    "for x, y, z in iter: z[...] = x + y\n",
    "\n",
    "print(iter.operands[2])"
   ]
  },
  {
   "cell_type": "markdown",
   "id": "9189bd7c",
   "metadata": {},
   "source": [
    "#### 63. Create an array class that has a name attribute (★★☆)"
   ]
  },
  {
   "cell_type": "code",
   "execution_count": 65,
   "id": "1c01ed42",
   "metadata": {},
   "outputs": [
    {
     "name": "stdout",
     "output_type": "stream",
     "text": [
      "range_10_array\n"
     ]
    }
   ],
   "source": [
    "class NamedArray(np.ndarray) :\n",
    "    def __new__(cls, array, name=\"no name\") :\n",
    "        obj = np.asarray(array).view(cls)\n",
    "        obj.name = name\n",
    "        \n",
    "        return obj\n",
    "    def __array_finalize__(self, obj) :\n",
    "        if obj is None: return\n",
    "\n",
    "        self.info = getattr(obj, 'name', \"no name\")\n",
    "\n",
    "array = NamedArray(np.arange(10), \"range_10_array\")\n",
    "print (array.name)"
   ]
  },
  {
   "cell_type": "markdown",
   "id": "f30162d2",
   "metadata": {},
   "source": [
    "#### 64. Consider a given vector, how to add 1 to each element indexed by a second vector (be careful with repeated indices)? (★★★)"
   ]
  },
  {
   "cell_type": "code",
   "execution_count": 66,
   "id": "093ba36f",
   "metadata": {},
   "outputs": [
    {
     "name": "stdout",
     "output_type": "stream",
     "text": [
      "[3. 3. 3. 2. 3. 6. 2. 1. 4. 3.]\n",
      "[ 5.  5.  5.  3.  5. 11.  3.  1.  7.  5.]\n"
     ]
    }
   ],
   "source": [
    "given_vector = np.ones(10)\n",
    "second_vector = np.random.randint(0, len(given_vector), 20)\n",
    "given_vector += np.bincount(second_vector, minlength=len(given_vector))\n",
    "\n",
    "print(given_vector)\n",
    "\n",
    "np.add.at(given_vector, second_vector, 1)\n",
    "\n",
    "print(given_vector)"
   ]
  },
  {
   "cell_type": "markdown",
   "id": "f5b1c584",
   "metadata": {},
   "source": [
    "#### 65. How to accumulate elements of a vector (X) to an array (F) based on an index list (I)? (★★★)"
   ]
  },
  {
   "cell_type": "code",
   "execution_count": 67,
   "id": "c9d92a75",
   "metadata": {},
   "outputs": [
    {
     "name": "stdout",
     "output_type": "stream",
     "text": [
      "[0. 7. 0. 6. 5. 0. 0. 0. 0. 3.]\n"
     ]
    }
   ],
   "source": [
    "vector_X = [1, 2, 3, 4, 5, 6]\n",
    "list_I = [1, 3, 9, 3, 4, 1]\n",
    "array_F = np.bincount(list_I, vector_X)\n",
    "\n",
    "# index[0,       1, 2,       3, 4, 5, 6, 7, 8, 9]\n",
    "# value[0, (1 + 6), 0, (2 + 4), 5, 0, 0, 0, 0, 3]\n",
    "\n",
    "print(array_F)"
   ]
  },
  {
   "cell_type": "markdown",
   "id": "994c452d",
   "metadata": {},
   "source": [
    "#### 66. Considering a (w,h,3) image of (dtype=ubyte), compute the number of unique colors (★★☆)"
   ]
  },
  {
   "cell_type": "code",
   "execution_count": 68,
   "id": "269cdaea",
   "metadata": {},
   "outputs": [
    {
     "name": "stdout",
     "output_type": "stream",
     "text": [
      "8\n"
     ]
    }
   ],
   "source": [
    "\"\"\" Not solved \"\"\"\n",
    "\n",
    "w, h = 16,16\n",
    "I = np.random.randint(0, 2, [h, w, 3]).astype(np.ubyte)\n",
    "\n",
    "# Note that we should compute 256*256 first. \n",
    "# Otherwise numpy will only promote F.dtype to 'uint16' and overfolw will occur\n",
    "F = I[..., 0] * (256 * 256) + I[..., 1] * 256 + I[..., 2]\n",
    "n = len(np.unique(F))\n",
    "\n",
    "print(n)"
   ]
  },
  {
   "cell_type": "markdown",
   "id": "4bddeb31",
   "metadata": {},
   "source": [
    "#### 67. Considering a four dimensions array, how to get sum over the last two axis at once? (★★★)"
   ]
  },
  {
   "cell_type": "code",
   "execution_count": 69,
   "id": "32af15f5",
   "metadata": {},
   "outputs": [
    {
     "name": "stdout",
     "output_type": "stream",
     "text": [
      "[[62 58 65 52]\n",
      " [56 75 57 36]\n",
      " [48 46 57 56]]\n"
     ]
    }
   ],
   "source": [
    "# Solved by passing a tuple of axes.\n",
    "\n",
    "four_D_array = np.random.randint(0, 10, [3, 4, 3, 4])\n",
    "\n",
    "sum = four_D_array.sum(axis=(-2, -1))\n",
    "\n",
    "print(sum)"
   ]
  },
  {
   "cell_type": "code",
   "execution_count": 70,
   "id": "1192af7f",
   "metadata": {},
   "outputs": [
    {
     "name": "stdout",
     "output_type": "stream",
     "text": [
      "[[64 52 58 39]\n",
      " [48 60 48 66]\n",
      " [53 55 45 54]]\n"
     ]
    }
   ],
   "source": [
    "# Solved by flattening the last two dimensions into one\n",
    "# (useful for the funcitons that don't accept tuples for axis argument)\n",
    "\n",
    "four_D_array = np.random.randint(0, 10, [3, 4, 3, 4])\n",
    "\n",
    "sum = four_D_array.reshape(four_D_array.shape[: -2] + (-1,)).sum(axis=-1)\n",
    "\n",
    "print(sum)"
   ]
  },
  {
   "cell_type": "markdown",
   "id": "c4cf083c",
   "metadata": {},
   "source": [
    "#### 68. Considering a one-dimensional vector D, how to compute means of subsets of D using a vector S of same size describing subset  indices? (★★★)"
   ]
  },
  {
   "cell_type": "code",
   "execution_count": 71,
   "id": "9600a2dd",
   "metadata": {},
   "outputs": [
    {
     "name": "stdout",
     "output_type": "stream",
     "text": [
      "[0.54754587 0.39388915 0.3327026  0.62895303 0.48546537 0.40740459\n",
      " 0.54345822 0.38823593 0.44123963 0.27339627]\n"
     ]
    }
   ],
   "source": [
    "vector_D = np.random.uniform(0, 1, 100)\n",
    "vector_S = np.random.randint(0, 10, 100)\n",
    "D_sums = np.bincount(vector_S, weights=vector_D)\n",
    "D_counts = np.bincount(vector_S)\n",
    "D_means = D_sums / D_counts\n",
    "\n",
    "print(D_means)"
   ]
  },
  {
   "cell_type": "code",
   "execution_count": 64,
   "id": "42fb40e5",
   "metadata": {},
   "outputs": [
    {
     "name": "stdout",
     "output_type": "stream",
     "text": [
      "0    0.575582\n",
      "1    0.455774\n",
      "2    0.539492\n",
      "3    0.387502\n",
      "4    0.522761\n",
      "5    0.441763\n",
      "6    0.492917\n",
      "7    0.509713\n",
      "8    0.518175\n",
      "9    0.546769\n",
      "dtype: float64\n"
     ]
    }
   ],
   "source": [
    "# Pandas solution as a reference due to more intuitive code\n",
    "import pandas as pd\n",
    "\n",
    "vector_D = np.random.uniform(0, 1, 100)\n",
    "vector_S = np.random.randint(0, 10, 100)\n",
    "\n",
    "print(pd.Series(vector_D).groupby(vector_S).mean())"
   ]
  },
  {
   "cell_type": "markdown",
   "id": "a5e316db",
   "metadata": {},
   "source": [
    "#### 69. How to get the diagonal of a dot product? (★★★)"
   ]
  },
  {
   "cell_type": "code",
   "execution_count": 72,
   "id": "94735dbd",
   "metadata": {},
   "outputs": [
    {
     "data": {
      "text/plain": [
       "array([1.09476188, 1.64204055, 0.68385469, 1.53101684, 0.87922222])"
      ]
     },
     "execution_count": 72,
     "metadata": {},
     "output_type": "execute_result"
    }
   ],
   "source": [
    "A = np.random.uniform(0, 1, [5, 5])\n",
    "B = np.random.uniform(0, 1, [5, 5])\n",
    "\n",
    "# Slow version  \n",
    "np.diag(np.dot(A, B))"
   ]
  },
  {
   "cell_type": "code",
   "execution_count": 73,
   "id": "551405d4",
   "metadata": {},
   "outputs": [
    {
     "data": {
      "text/plain": [
       "array([0.69906508, 1.95701278, 0.38913155, 0.92008629, 1.20226372])"
      ]
     },
     "execution_count": 73,
     "metadata": {},
     "output_type": "execute_result"
    }
   ],
   "source": [
    "A = np.random.uniform(0, 1, [5, 5])\n",
    "B = np.random.uniform(0, 1, [5, 5])\n",
    "\n",
    "# Fast version\n",
    "np.sum(A * B.T, axis=1)"
   ]
  },
  {
   "cell_type": "code",
   "execution_count": 74,
   "id": "beaa7f35",
   "metadata": {},
   "outputs": [
    {
     "data": {
      "text/plain": [
       "array([0.68769703, 0.8351146 , 1.76459289, 1.56431094, 1.57145829])"
      ]
     },
     "execution_count": 74,
     "metadata": {},
     "output_type": "execute_result"
    }
   ],
   "source": [
    "A = np.random.uniform(0, 1, [5, 5])\n",
    "B = np.random.uniform(0, 1, [5, 5])\n",
    "\n",
    "# Faster version\n",
    "np.einsum(\"ij,ji->i\", A, B)"
   ]
  },
  {
   "cell_type": "markdown",
   "id": "de727a7b",
   "metadata": {},
   "source": [
    "#### 70. Consider the vector [1, 2, 3, 4, 5], how to build a new vector with 3 consecutive zeros interleaved between each value? (★★★)"
   ]
  },
  {
   "cell_type": "code",
   "execution_count": 75,
   "id": "982be812",
   "metadata": {},
   "outputs": [
    {
     "name": "stdout",
     "output_type": "stream",
     "text": [
      "[1. 0. 0. 0. 2. 0. 0. 0. 3. 0. 0. 0. 4. 0. 0. 0. 5.]\n"
     ]
    }
   ],
   "source": [
    "vector = np.array([1, 2, 3, 4, 5])\n",
    "num = 3\n",
    "new_vector = np.zeros(len(vector) + (len(vector) -1 ) * num)\n",
    "new_vector[:: num + 1] = vector\n",
    "\n",
    "print(new_vector)"
   ]
  },
  {
   "cell_type": "markdown",
   "id": "a9a73d6b",
   "metadata": {},
   "source": [
    "#### 71. Consider an array of dimension (5,5,3), how to mulitply it by an array with dimensions (5,5)? (★★★)"
   ]
  },
  {
   "cell_type": "code",
   "execution_count": 76,
   "id": "282a90cc",
   "metadata": {},
   "outputs": [
    {
     "name": "stdout",
     "output_type": "stream",
     "text": [
      "[[[2. 2. 2.]\n",
      "  [2. 2. 2.]\n",
      "  [2. 2. 2.]\n",
      "  [2. 2. 2.]\n",
      "  [2. 2. 2.]]\n",
      "\n",
      " [[2. 2. 2.]\n",
      "  [2. 2. 2.]\n",
      "  [2. 2. 2.]\n",
      "  [2. 2. 2.]\n",
      "  [2. 2. 2.]]\n",
      "\n",
      " [[2. 2. 2.]\n",
      "  [2. 2. 2.]\n",
      "  [2. 2. 2.]\n",
      "  [2. 2. 2.]\n",
      "  [2. 2. 2.]]\n",
      "\n",
      " [[2. 2. 2.]\n",
      "  [2. 2. 2.]\n",
      "  [2. 2. 2.]\n",
      "  [2. 2. 2.]\n",
      "  [2. 2. 2.]]\n",
      "\n",
      " [[2. 2. 2.]\n",
      "  [2. 2. 2.]\n",
      "  [2. 2. 2.]\n",
      "  [2. 2. 2.]\n",
      "  [2. 2. 2.]]]\n"
     ]
    }
   ],
   "source": [
    "three_D_array = np.ones([5, 5, 3])\n",
    "two_D_array = 2 * np.ones([5, 5])\n",
    "ans = three_D_array * two_D_array[:, :, None]\n",
    "\n",
    "print(ans)"
   ]
  },
  {
   "cell_type": "markdown",
   "id": "a951c78f",
   "metadata": {},
   "source": [
    "#### 72. How to swap two rows of an array? (★★★)"
   ]
  },
  {
   "cell_type": "code",
   "execution_count": 77,
   "id": "e29b3fde",
   "metadata": {},
   "outputs": [
    {
     "name": "stdout",
     "output_type": "stream",
     "text": [
      "[[ 5  6  7  8  9]\n",
      " [ 0  1  2  3  4]\n",
      " [10 11 12 13 14]\n",
      " [15 16 17 18 19]\n",
      " [20 21 22 23 24]]\n"
     ]
    }
   ],
   "source": [
    "array = np.arange(25).reshape(5, 5)\n",
    "array[[0, 1]] = array[[1, 0]]\n",
    "\n",
    "print(array)"
   ]
  },
  {
   "cell_type": "markdown",
   "id": "43b639e8",
   "metadata": {},
   "source": [
    "#### 73. Consider a set of 10 triplets describing 10 triangles (with shared vertices), find the set of unique line segments composing all the  triangles (★★★)"
   ]
  },
  {
   "cell_type": "code",
   "execution_count": null,
   "id": "147e1034",
   "metadata": {},
   "outputs": [],
   "source": [
    "\"\"\" Not solved \"\"\"\n",
    "\n",
    "faces = np.random.randint(0, 100, [10,3])\n",
    "F = np.roll(faces.repeat(2, axis=1), -1, axis=1)\n",
    "F = F.reshape(len(F) * 3, 2)\n",
    "F = np.sort(F, axis=1)\n",
    "G = F.view(dtype=[('p0', F.dtype), ('p1', F.dtype)])\n",
    "G = np.unique(G)\n",
    "\n",
    "print(G)"
   ]
  },
  {
   "cell_type": "markdown",
   "id": "d41de585",
   "metadata": {},
   "source": [
    "#### 74. Given a sorted array C that corresponds to a bincount, how to produce an array A such that np.bincount(A) == C? (★★★)"
   ]
  },
  {
   "cell_type": "code",
   "execution_count": 78,
   "id": "5f5d6e36",
   "metadata": {},
   "outputs": [
    {
     "name": "stdout",
     "output_type": "stream",
     "text": [
      "[1 1 2 3 4 4 5 6 7]\n"
     ]
    }
   ],
   "source": [
    "sorted_array_C = np.bincount([1, 1, 2, 3, 4, 4, 5, 6, 7])\n",
    "len = len(sorted_array_C)\n",
    "array_A = np.repeat(np.arange(len), sorted_array_C)\n",
    "\n",
    "print(array_A)"
   ]
  },
  {
   "cell_type": "markdown",
   "id": "b50adf7c",
   "metadata": {},
   "source": [
    "#### 75. How to compute averages using a sliding window over an array? (★★★)"
   ]
  },
  {
   "cell_type": "code",
   "execution_count": 79,
   "id": "e631a9d2",
   "metadata": {},
   "outputs": [
    {
     "name": "stdout",
     "output_type": "stream",
     "text": [
      "[ 1.  2.  3.  4.  5.  6.  7.  8.  9. 10. 11. 12. 13. 14. 15. 16. 17. 18.]\n"
     ]
    }
   ],
   "source": [
    "def computeAverage(array, n = 3) :\n",
    "    ret = np.cumsum(array, dtype=float)\n",
    "    ret[n:] = ret[n:] - ret[: -n]\n",
    "\n",
    "    return ret[n - 1:] / n\n",
    "\n",
    "array = np.arange(20)\n",
    "\n",
    "print(computeAverage(array, n=3))"
   ]
  },
  {
   "cell_type": "markdown",
   "id": "1ab4c50d",
   "metadata": {},
   "source": [
    "#### 76. Consider a one-dimensional array Z, build a two-dimensional array whose first row is (Z[0],Z[1],Z[2]) and each subsequent row is  shifted by 1 (last row should be (Z[-3],Z[-2],Z[-1]) (★★★)"
   ]
  },
  {
   "cell_type": "code",
   "execution_count": 80,
   "id": "3ccfe2c0",
   "metadata": {},
   "outputs": [
    {
     "name": "stdout",
     "output_type": "stream",
     "text": [
      "[[0 1 2]\n",
      " [1 2 3]\n",
      " [2 3 4]\n",
      " [3 4 5]\n",
      " [4 5 6]\n",
      " [5 6 7]\n",
      " [6 7 8]\n",
      " [7 8 9]]\n"
     ]
    }
   ],
   "source": [
    "\"\"\" Not solved \"\"\"\n",
    "\n",
    "from numpy.lib import stride_tricks\n",
    "\n",
    "def rolling(a, window):\n",
    "    shape = (a.size - window + 1, window)\n",
    "    strides = (a.itemsize, a.itemsize)\n",
    "\n",
    "    return stride_tricks.as_strided(a, shape=shape, strides=strides)\n",
    "\n",
    "\n",
    "array_Z = rolling(np.arange(10), 3)\n",
    "print(array_Z)"
   ]
  },
  {
   "cell_type": "markdown",
   "id": "5b4fe59d",
   "metadata": {},
   "source": [
    "#### 77. How to negate a boolean, or to change the sign of a float inplace? (★★★)"
   ]
  },
  {
   "cell_type": "code",
   "execution_count": 83,
   "id": "3c2373ff",
   "metadata": {},
   "outputs": [
    {
     "data": {
      "text/plain": [
       "array([ 0.99913779,  0.79386256, -0.89729962, -0.76583531, -0.60534293,\n",
       "        0.95152654,  0.72729776,  0.52766537,  0.9534956 , -0.75372934,\n",
       "        0.6791922 , -0.83432521, -0.50883215,  0.68565346, -0.92669705,\n",
       "       -0.78266704,  0.60683714, -0.21908474, -0.71868286,  0.8652204 ,\n",
       "        0.61532246,  0.82397995,  0.81556342, -0.62508925,  0.6049021 ,\n",
       "       -0.35962286,  0.04265951, -0.75525767, -0.1537657 , -0.53902637,\n",
       "        0.6374029 ,  0.80867738, -0.35726019,  0.50371729,  0.13991203,\n",
       "        0.35737909, -0.80541636, -0.85437521, -0.67103727,  0.4045015 ,\n",
       "       -0.53603691,  0.36193741,  0.91100209,  0.65353162, -0.99303766,\n",
       "        0.19934032, -0.77528118, -0.05210761,  0.02020122, -0.65153299,\n",
       "        0.06927859, -0.30367939, -0.56621703,  0.46919785,  0.73765818,\n",
       "        0.01946204,  0.52619272, -0.82457508,  0.25588007,  0.95702093,\n",
       "        0.0534091 , -0.31149363, -0.79860325,  0.94091844, -0.38281201,\n",
       "        0.46464667,  0.49148894, -0.84903888,  0.91039676, -0.52192661,\n",
       "       -0.4936879 ,  0.58705451, -0.37285955, -0.43815257, -0.44715483,\n",
       "        0.26671236,  0.46395888, -0.83123578,  0.81880818,  0.23583641,\n",
       "        0.39393454,  0.48495926,  0.53727322, -0.73744207,  0.57769425,\n",
       "       -0.15010482,  0.82316336, -0.37412237, -0.40173056, -0.1002731 ,\n",
       "        0.67358658, -0.39488889,  0.37358124, -0.45416926,  0.23631912,\n",
       "       -0.07603014,  0.30713319, -0.52614641, -0.12646506, -0.90532028])"
      ]
     },
     "execution_count": 83,
     "metadata": {},
     "output_type": "execute_result"
    }
   ],
   "source": [
    "array = np.random.randint(0, 2, 100)\n",
    "np.logical_not(array, out=array)\n",
    "\n",
    "array = np.random.uniform(-1.0, 1.0, 100)\n",
    "np.negative(array, out=array)"
   ]
  },
  {
   "cell_type": "markdown",
   "id": "119ab5af",
   "metadata": {},
   "source": [
    "#### 78. Consider 2 sets of points P0,P1 describing lines (2d) and a point p, how to compute distance from p to each line i (P0[i],P1[i])? (★★★)"
   ]
  },
  {
   "cell_type": "code",
   "execution_count": 3,
   "id": "1d8d06dc",
   "metadata": {},
   "outputs": [
    {
     "name": "stdout",
     "output_type": "stream",
     "text": [
      "[ 6.92422781  1.12589728  3.78752423  0.31454582 15.44805471  5.70076619\n",
      "  7.52861777 10.54098953  2.36918472 14.09782301]\n"
     ]
    }
   ],
   "source": [
    "def countDistance(P0, P1, p):\n",
    "    T = P1 - P0\n",
    "    L = (T**2).sum(axis=1)\n",
    "    U = -((P0[:,0]-p[...,0])*T[:,0] + (P0[:,1]-p[...,1])*T[:,1]) / L\n",
    "    U_len = U.reshape(len(U), 1)\n",
    "    D = P0 + U_len * T - p\n",
    "\n",
    "    return np.sqrt((D**2).sum(axis=1))\n",
    "\n",
    "P0 = np.random.uniform(-10, 10, [10, 2])\n",
    "P1 = np.random.uniform(-10, 10, [10, 2])\n",
    "p  = np.random.uniform(-10, 10, [ 1, 2])\n",
    "print(countDistance(P0, P1, p))"
   ]
  },
  {
   "cell_type": "markdown",
   "id": "e5e7f323",
   "metadata": {},
   "source": [
    "#### 79. Consider 2 sets of points P0,P1 describing lines (2d) and a set of points P, how to compute distance from each point j (P[j]) to each line i (P0[i],P1[i])? (★★★)"
   ]
  },
  {
   "cell_type": "code",
   "execution_count": 4,
   "id": "d0ce77e2",
   "metadata": {},
   "outputs": [
    {
     "name": "stdout",
     "output_type": "stream",
     "text": [
      "[[ 3.90686561  3.55892486  0.90514854  4.6512374   2.67050748  3.77916724\n",
      "   3.25865999  1.60096664  2.08966725  8.68937981]\n",
      " [ 8.43909574  9.41063883 11.41394911  6.38971614  6.6742545  15.3681237\n",
      "   4.12401978  3.82130908 10.06780506  0.3429023 ]\n",
      " [ 0.90862974  0.25795034  1.93972433  3.44874189  2.5327468  15.13977848\n",
      "   4.02079403  8.72624634  9.17263124  2.46821546]\n",
      " [ 4.15794907  2.29707794  4.42926637  0.26360625  2.61517104 11.33283227\n",
      "   1.44978163  3.39646407  5.64314388  2.38043232]\n",
      " [ 3.37022781  4.82099262  2.97166754  8.00101869  4.81332372 11.48934922\n",
      "   5.20108477  7.57798813  5.26990355  0.1714537 ]\n",
      " [10.44122847  0.62112291  3.70928793  0.59598908  9.22614841  0.95486876\n",
      "   9.75378122  7.0574994   4.5115752  13.1785387 ]\n",
      " [ 1.18283533  1.83563018  3.33348849  2.38044472  2.90241573 17.61678613\n",
      "   4.92696332 10.55801343 11.68313657  4.65164285]\n",
      " [ 1.99331527  4.19801955  5.87577538  0.41305265  0.26624336 16.68874707\n",
      "   1.88937327  8.2080173  10.96018837  2.84582859]\n",
      " [ 9.06516466  2.46426199  0.74083422  2.12973742  7.96455853  1.41697784\n",
      "   9.18296432  7.92447583  7.03153528 14.74262864]\n",
      " [ 2.92005395  4.92811171  6.6545027   1.25812281  1.18859558 16.47284373\n",
      "   1.0178075   7.55963012 10.80529892  2.36535052]]\n"
     ]
    }
   ],
   "source": [
    "def countDistance(P0, P1, p):\n",
    "    T = P1 - P0\n",
    "    L = (T**2).sum(axis=1)\n",
    "    U = -((P0[:,0]-p[...,0])*T[:,0] + (P0[:,1]-p[...,1])*T[:,1]) / L\n",
    "    U_len = U.reshape(len(U), 1)\n",
    "    D = P0 + U_len * T - p\n",
    "\n",
    "    return np.sqrt((D**2).sum(axis=1))\n",
    "\n",
    "P0 = np.random.uniform(-10, 10, (10,2))\n",
    "P1 = np.random.uniform(-10,10,(10,2))\n",
    "p = np.random.uniform(-10, 10, (10,2))\n",
    "\n",
    "print(np.array([countDistance(P0,P1,p_i) for p_i in p]))"
   ]
  },
  {
   "cell_type": "markdown",
   "id": "9b9d03eb",
   "metadata": {},
   "source": [
    "#### 80. Consider an arbitrary array, write a function that extract a subpart with a fixed shape and centered on a given element (pad with a `fill` value when necessary) (★★★)"
   ]
  },
  {
   "cell_type": "code",
   "execution_count": 5,
   "id": "ec2b7ae3",
   "metadata": {},
   "outputs": [
    {
     "name": "stdout",
     "output_type": "stream",
     "text": [
      "[[3 6 9 9 5 5 2 1 5 9]\n",
      " [6 7 5 7 4 4 2 7 4 8]\n",
      " [6 3 9 8 6 4 3 8 7 5]\n",
      " [6 3 6 2 6 1 1 6 5 7]\n",
      " [1 4 3 8 7 6 5 0 5 3]\n",
      " [8 1 7 3 1 4 2 6 2 7]\n",
      " [8 0 1 2 1 4 4 4 2 2]\n",
      " [3 6 0 8 2 5 3 3 8 3]\n",
      " [4 6 7 0 7 6 2 3 3 2]\n",
      " [9 5 4 8 9 6 1 2 6 0]]\n",
      "[[0 0 0 0 0]\n",
      " [0 3 6 9 9]\n",
      " [0 6 7 5 7]\n",
      " [0 6 3 9 8]\n",
      " [0 6 3 6 2]]\n"
     ]
    },
    {
     "name": "stderr",
     "output_type": "stream",
     "text": [
      "/var/folders/nl/l2b2vttd7j73mhvfwrp0lwzr0000gn/T/ipykernel_36851/638444530.py:23: FutureWarning: Using a non-tuple sequence for multidimensional indexing is deprecated; use `arr[tuple(seq)]` instead of `arr[seq]`. In the future this will be interpreted as an array index, `arr[np.array(seq)]`, which will result either in an error or a different result.\n",
      "  R[r] = Z[z]\n"
     ]
    }
   ],
   "source": [
    "Z = np.random.randint(0, 10, [10, 10])\n",
    "shape = (5, 5)\n",
    "fill = 0\n",
    "position = (1, 1)\n",
    "\n",
    "R = np.ones(shape, dtype=Z.dtype)*fill\n",
    "P  = np.array(list(position)).astype(int)\n",
    "Rs = np.array(list(R.shape)).astype(int)\n",
    "Zs = np.array(list(Z.shape)).astype(int)\n",
    "\n",
    "R_start = np.zeros((len(shape),)).astype(int)\n",
    "R_stop  = np.array(list(shape)).astype(int)\n",
    "Z_start = (P-Rs//2)\n",
    "Z_stop  = (P+Rs//2)+Rs%2\n",
    "\n",
    "R_start = (R_start - np.minimum(Z_start,0)).tolist()\n",
    "Z_start = (np.maximum(Z_start,0)).tolist()\n",
    "R_stop = np.maximum(R_start, (R_stop - np.maximum(Z_stop-Zs,0))).tolist()\n",
    "Z_stop = (np.minimum(Z_stop,Zs)).tolist()\n",
    "\n",
    "r = [slice(start, stop) for start, stop in zip(R_start, R_stop)]\n",
    "z = [slice(start, stop) for start, stop in zip(Z_start, Z_stop)]\n",
    "R[r] = Z[z]\n",
    "print(Z)\n",
    "print(R)"
   ]
  },
  {
   "cell_type": "markdown",
   "id": "27794913",
   "metadata": {},
   "source": [
    "#### 81. Consider an array Z = [1,2,3,4,5,6,7,8,9,10,11,12,13,14], how to generate an array R = [[1,2,3,4], [2,3,4,5], [3,4,5,6], ..., [11,12,13,14]]? (★★★)"
   ]
  },
  {
   "cell_type": "code",
   "execution_count": 7,
   "id": "f3e7878b",
   "metadata": {},
   "outputs": [
    {
     "name": "stdout",
     "output_type": "stream",
     "text": [
      "[[ 1  2  3  4]\n",
      " [ 2  3  4  5]\n",
      " [ 3  4  5  6]\n",
      " [ 4  5  6  7]\n",
      " [ 5  6  7  8]\n",
      " [ 6  7  8  9]\n",
      " [ 7  8  9 10]\n",
      " [ 8  9 10 11]\n",
      " [ 9 10 11 12]\n",
      " [10 11 12 13]\n",
      " [11 12 13 14]]\n"
     ]
    }
   ],
   "source": [
    "from numpy.lib import stride_tricks\n",
    "\n",
    "array_Z = np.arange(1, 15, dtype=np.uint32)\n",
    "array_R = stride_tricks.as_strided(array_Z, [11,4], [4,4])\n",
    "\n",
    "print(array_R)"
   ]
  },
  {
   "cell_type": "markdown",
   "id": "fae786f5",
   "metadata": {},
   "source": [
    "#### 82. Compute a matrix rank (★★★)"
   ]
  },
  {
   "cell_type": "code",
   "execution_count": 8,
   "id": "64b9615b",
   "metadata": {},
   "outputs": [
    {
     "name": "stdout",
     "output_type": "stream",
     "text": [
      "10\n"
     ]
    }
   ],
   "source": [
    "matrix = np.random.uniform(0, 1, [10, 10])\n",
    "U, S, V = np.linalg.svd(matrix) # Singular Value Decomposition\n",
    "rank = np.sum(S > 1e-10)\n",
    "\n",
    "print(rank)"
   ]
  },
  {
   "cell_type": "markdown",
   "id": "c85aa0b9",
   "metadata": {},
   "source": [
    "#### 83. How to find the most frequent value in an array?"
   ]
  },
  {
   "cell_type": "code",
   "execution_count": 10,
   "id": "056be85b",
   "metadata": {},
   "outputs": [
    {
     "name": "stdout",
     "output_type": "stream",
     "text": [
      "[8 8 4 2 4 3 1 7 1 7 1 7 2 3 3 9 6 1 6 3 1 0 0 8 0 9 1 0 4 7 2 7 2 8 3 1 5\n",
      " 4 8 0 4 1 1 9 7 0 4 2 1 9]\n",
      "1\n"
     ]
    }
   ],
   "source": [
    "array = np.random.randint(0, 10, 50)\n",
    "most_frequent_value = np.bincount(array).argmax()\n",
    "\n",
    "print(array)\n",
    "print(most_frequent_value)"
   ]
  },
  {
   "cell_type": "markdown",
   "id": "0ff2344d",
   "metadata": {},
   "source": [
    "#### 84. Extract all the contiguous 3x3 blocks from a random 10x10 matrix (★★★)"
   ]
  },
  {
   "cell_type": "code",
   "execution_count": 11,
   "id": "d58b1318",
   "metadata": {},
   "outputs": [
    {
     "name": "stdout",
     "output_type": "stream",
     "text": [
      "[[[[0 1 4]\n",
      "   [2 2 3]\n",
      "   [0 1 2]]\n",
      "\n",
      "  [[1 4 2]\n",
      "   [2 3 1]\n",
      "   [1 2 4]]\n",
      "\n",
      "  [[4 2 3]\n",
      "   [3 1 2]\n",
      "   [2 4 0]]\n",
      "\n",
      "  [[2 3 3]\n",
      "   [1 2 0]\n",
      "   [4 0 2]]\n",
      "\n",
      "  [[3 3 0]\n",
      "   [2 0 1]\n",
      "   [0 2 0]]\n",
      "\n",
      "  [[3 0 4]\n",
      "   [0 1 3]\n",
      "   [2 0 1]]\n",
      "\n",
      "  [[0 4 4]\n",
      "   [1 3 2]\n",
      "   [0 1 0]]\n",
      "\n",
      "  [[4 4 2]\n",
      "   [3 2 0]\n",
      "   [1 0 0]]]\n",
      "\n",
      "\n",
      " [[[2 2 3]\n",
      "   [0 1 2]\n",
      "   [4 0 3]]\n",
      "\n",
      "  [[2 3 1]\n",
      "   [1 2 4]\n",
      "   [0 3 1]]\n",
      "\n",
      "  [[3 1 2]\n",
      "   [2 4 0]\n",
      "   [3 1 2]]\n",
      "\n",
      "  [[1 2 0]\n",
      "   [4 0 2]\n",
      "   [1 2 2]]\n",
      "\n",
      "  [[2 0 1]\n",
      "   [0 2 0]\n",
      "   [2 2 0]]\n",
      "\n",
      "  [[0 1 3]\n",
      "   [2 0 1]\n",
      "   [2 0 0]]\n",
      "\n",
      "  [[1 3 2]\n",
      "   [0 1 0]\n",
      "   [0 0 1]]\n",
      "\n",
      "  [[3 2 0]\n",
      "   [1 0 0]\n",
      "   [0 1 2]]]\n",
      "\n",
      "\n",
      " [[[0 1 2]\n",
      "   [4 0 3]\n",
      "   [2 4 2]]\n",
      "\n",
      "  [[1 2 4]\n",
      "   [0 3 1]\n",
      "   [4 2 1]]\n",
      "\n",
      "  [[2 4 0]\n",
      "   [3 1 2]\n",
      "   [2 1 2]]\n",
      "\n",
      "  [[4 0 2]\n",
      "   [1 2 2]\n",
      "   [1 2 1]]\n",
      "\n",
      "  [[0 2 0]\n",
      "   [2 2 0]\n",
      "   [2 1 0]]\n",
      "\n",
      "  [[2 0 1]\n",
      "   [2 0 0]\n",
      "   [1 0 0]]\n",
      "\n",
      "  [[0 1 0]\n",
      "   [0 0 1]\n",
      "   [0 0 2]]\n",
      "\n",
      "  [[1 0 0]\n",
      "   [0 1 2]\n",
      "   [0 2 2]]]\n",
      "\n",
      "\n",
      " [[[4 0 3]\n",
      "   [2 4 2]\n",
      "   [4 1 2]]\n",
      "\n",
      "  [[0 3 1]\n",
      "   [4 2 1]\n",
      "   [1 2 4]]\n",
      "\n",
      "  [[3 1 2]\n",
      "   [2 1 2]\n",
      "   [2 4 4]]\n",
      "\n",
      "  [[1 2 2]\n",
      "   [1 2 1]\n",
      "   [4 4 1]]\n",
      "\n",
      "  [[2 2 0]\n",
      "   [2 1 0]\n",
      "   [4 1 0]]\n",
      "\n",
      "  [[2 0 0]\n",
      "   [1 0 0]\n",
      "   [1 0 3]]\n",
      "\n",
      "  [[0 0 1]\n",
      "   [0 0 2]\n",
      "   [0 3 3]]\n",
      "\n",
      "  [[0 1 2]\n",
      "   [0 2 2]\n",
      "   [3 3 0]]]\n",
      "\n",
      "\n",
      " [[[2 4 2]\n",
      "   [4 1 2]\n",
      "   [1 3 4]]\n",
      "\n",
      "  [[4 2 1]\n",
      "   [1 2 4]\n",
      "   [3 4 2]]\n",
      "\n",
      "  [[2 1 2]\n",
      "   [2 4 4]\n",
      "   [4 2 2]]\n",
      "\n",
      "  [[1 2 1]\n",
      "   [4 4 1]\n",
      "   [2 2 1]]\n",
      "\n",
      "  [[2 1 0]\n",
      "   [4 1 0]\n",
      "   [2 1 2]]\n",
      "\n",
      "  [[1 0 0]\n",
      "   [1 0 3]\n",
      "   [1 2 4]]\n",
      "\n",
      "  [[0 0 2]\n",
      "   [0 3 3]\n",
      "   [2 4 2]]\n",
      "\n",
      "  [[0 2 2]\n",
      "   [3 3 0]\n",
      "   [4 2 1]]]\n",
      "\n",
      "\n",
      " [[[4 1 2]\n",
      "   [1 3 4]\n",
      "   [2 2 1]]\n",
      "\n",
      "  [[1 2 4]\n",
      "   [3 4 2]\n",
      "   [2 1 3]]\n",
      "\n",
      "  [[2 4 4]\n",
      "   [4 2 2]\n",
      "   [1 3 0]]\n",
      "\n",
      "  [[4 4 1]\n",
      "   [2 2 1]\n",
      "   [3 0 2]]\n",
      "\n",
      "  [[4 1 0]\n",
      "   [2 1 2]\n",
      "   [0 2 1]]\n",
      "\n",
      "  [[1 0 3]\n",
      "   [1 2 4]\n",
      "   [2 1 1]]\n",
      "\n",
      "  [[0 3 3]\n",
      "   [2 4 2]\n",
      "   [1 1 2]]\n",
      "\n",
      "  [[3 3 0]\n",
      "   [4 2 1]\n",
      "   [1 2 0]]]\n",
      "\n",
      "\n",
      " [[[1 3 4]\n",
      "   [2 2 1]\n",
      "   [0 0 3]]\n",
      "\n",
      "  [[3 4 2]\n",
      "   [2 1 3]\n",
      "   [0 3 2]]\n",
      "\n",
      "  [[4 2 2]\n",
      "   [1 3 0]\n",
      "   [3 2 0]]\n",
      "\n",
      "  [[2 2 1]\n",
      "   [3 0 2]\n",
      "   [2 0 2]]\n",
      "\n",
      "  [[2 1 2]\n",
      "   [0 2 1]\n",
      "   [0 2 3]]\n",
      "\n",
      "  [[1 2 4]\n",
      "   [2 1 1]\n",
      "   [2 3 4]]\n",
      "\n",
      "  [[2 4 2]\n",
      "   [1 1 2]\n",
      "   [3 4 0]]\n",
      "\n",
      "  [[4 2 1]\n",
      "   [1 2 0]\n",
      "   [4 0 4]]]\n",
      "\n",
      "\n",
      " [[[2 2 1]\n",
      "   [0 0 3]\n",
      "   [3 0 0]]\n",
      "\n",
      "  [[2 1 3]\n",
      "   [0 3 2]\n",
      "   [0 0 1]]\n",
      "\n",
      "  [[1 3 0]\n",
      "   [3 2 0]\n",
      "   [0 1 2]]\n",
      "\n",
      "  [[3 0 2]\n",
      "   [2 0 2]\n",
      "   [1 2 0]]\n",
      "\n",
      "  [[0 2 1]\n",
      "   [0 2 3]\n",
      "   [2 0 0]]\n",
      "\n",
      "  [[2 1 1]\n",
      "   [2 3 4]\n",
      "   [0 0 4]]\n",
      "\n",
      "  [[1 1 2]\n",
      "   [3 4 0]\n",
      "   [0 4 2]]\n",
      "\n",
      "  [[1 2 0]\n",
      "   [4 0 4]\n",
      "   [4 2 0]]]]\n"
     ]
    }
   ],
   "source": [
    "array = np.random.randint(0, 5, [10, 10])\n",
    "n = 3\n",
    "i = 1 + (array.shape[0] - 3)\n",
    "j = 1 + (array.shape[1] - 3)\n",
    "C = stride_tricks.as_strided(array, shape=(i, j, n, n), \n",
    "                             strides=array.strides + array.strides)\n",
    "\n",
    "print(C)"
   ]
  },
  {
   "cell_type": "markdown",
   "id": "1a18b263",
   "metadata": {},
   "source": [
    "#### 85. Create a 2D array subclass such that Z[i,j] == Z[j,i] (★★★)"
   ]
  },
  {
   "cell_type": "code",
   "execution_count": 14,
   "id": "87f17adc",
   "metadata": {},
   "outputs": [
    {
     "name": "stdout",
     "output_type": "stream",
     "text": [
      "[[ 9 10  6 10 14]\n",
      " [10  0 15 10  7]\n",
      " [ 6 15  9 42 16]\n",
      " [10 10 42  4  8]\n",
      " [14  7 16  8  9]]\n"
     ]
    }
   ],
   "source": [
    "class Symetric(np.ndarray):\n",
    "    def __setitem__(self, index, value):\n",
    "        i, j = index\n",
    "        super(Symetric, self).__setitem__((i, j), value)\n",
    "        super(Symetric, self).__setitem__((j, i), value)\n",
    "\n",
    "def symetric(Z):\n",
    "    return np.asarray(Z + Z.T - np.diag(Z.diagonal())).view(Symetric)\n",
    "\n",
    "array = np.random.randint(0, 10, [5, 5])\n",
    "symetric_array = symetric(array)\n",
    "symetric_array[2, 3] = 42\n",
    "\n",
    "print(symetric_array)"
   ]
  },
  {
   "cell_type": "markdown",
   "id": "f85f2cad",
   "metadata": {},
   "source": [
    "#### 86. Consider a set of p matrices wich shape (n,n) and a set of p vectors with shape (n,1). How to compute the sum of of the p matrix products at once? (result has shape (n,1)) (★★★)"
   ]
  },
  {
   "cell_type": "code",
   "execution_count": 15,
   "id": "8d230557",
   "metadata": {},
   "outputs": [
    {
     "name": "stdout",
     "output_type": "stream",
     "text": [
      "[[200.]\n",
      " [200.]\n",
      " [200.]\n",
      " [200.]\n",
      " [200.]\n",
      " [200.]\n",
      " [200.]\n",
      " [200.]\n",
      " [200.]\n",
      " [200.]\n",
      " [200.]\n",
      " [200.]\n",
      " [200.]\n",
      " [200.]\n",
      " [200.]\n",
      " [200.]\n",
      " [200.]\n",
      " [200.]\n",
      " [200.]\n",
      " [200.]]\n"
     ]
    }
   ],
   "source": [
    "p, n = 10, 20\n",
    "M = np.ones((p, n, n))\n",
    "V = np.ones((p, n, 1))\n",
    "S = np.tensordot(M, V, axes=[[0, 2], [0, 1]])\n",
    "\n",
    "print(S)\n",
    "\n",
    "# It works, because:\n",
    "# M is (p,n,n)\n",
    "# V is (p,n,1)\n",
    "# Thus, summing over the paired axes 0 and 0 (of M and V independently),\n",
    "# and 2 and 1, to remain with a (n,1) vector."
   ]
  },
  {
   "cell_type": "markdown",
   "id": "5afb72c8",
   "metadata": {},
   "source": [
    "#### 87. Consider a 16x16 array, how to get the block-sum (block size is 4x4)? (★★★)"
   ]
  },
  {
   "cell_type": "code",
   "execution_count": 16,
   "id": "e86f47a9",
   "metadata": {},
   "outputs": [
    {
     "name": "stdout",
     "output_type": "stream",
     "text": [
      "[[16. 16. 16. 16.]\n",
      " [16. 16. 16. 16.]\n",
      " [16. 16. 16. 16.]\n",
      " [16. 16. 16. 16.]]\n"
     ]
    }
   ],
   "source": [
    "array = np.ones([16, 16])\n",
    "size = 4\n",
    "block_sum = np.add.reduceat(np.add.reduceat(array, np.arange(0, array.shape[0], size), axis=0),\n",
    "                                       np.arange(0, array.shape[1], size), axis=1)\n",
    "\n",
    "print(block_sum)"
   ]
  },
  {
   "cell_type": "markdown",
   "id": "6094d37c",
   "metadata": {},
   "source": [
    "#### 88. How to implement the Game of Life using numpy arrays? (★★★)"
   ]
  },
  {
   "cell_type": "code",
   "execution_count": 17,
   "id": "a93e715f",
   "metadata": {},
   "outputs": [
    {
     "name": "stdout",
     "output_type": "stream",
     "text": [
      "[[0 0 0 ... 0 0 0]\n",
      " [0 0 0 ... 0 0 0]\n",
      " [0 0 0 ... 0 0 0]\n",
      " ...\n",
      " [0 0 0 ... 0 0 0]\n",
      " [0 0 0 ... 0 0 0]\n",
      " [0 0 0 ... 0 0 0]]\n"
     ]
    }
   ],
   "source": [
    "def iterate(array) :\n",
    "    # Count neighbours\n",
    "    neighbours = (array[0: -2, 0: -2] + array[0: -2, 1: -1] + array[0: -2, 2:] +\n",
    "                  array[1: -1, 0: -2]                       + array[1: -1, 2:] +\n",
    "                  array[2:   , 0: -2] + array[2:   , 1: -1] + array[2:   , 2:]   )\n",
    "\n",
    "    # Apply rules\n",
    "    birth = (neighbours == 3) & (array[1: -1, 1: -1] == 0)\n",
    "    survive = ((neighbours == 2) | (neighbours == 3)) & (array[1: -1, 1: -1] == 1)\n",
    "    array[...] = 0\n",
    "    array[1: -1, 1: -1][birth | survive] = 1\n",
    "    \n",
    "    return array\n",
    "\n",
    "array = np.random.randint(0,2,[50,50])\n",
    "for i in range(100) : array = iterate(array)\n",
    "\n",
    "print(array)"
   ]
  },
  {
   "cell_type": "markdown",
   "id": "a173cf96",
   "metadata": {},
   "source": [
    "#### 89. How to get the n largest values of an array (★★★)"
   ]
  },
  {
   "cell_type": "code",
   "execution_count": 18,
   "id": "b7c2ff35",
   "metadata": {},
   "outputs": [
    {
     "name": "stdout",
     "output_type": "stream",
     "text": [
      "[9995 9996 9997 9998 9999]\n",
      "[9998 9999 9997 9996 9995]\n"
     ]
    }
   ],
   "source": [
    "array = np.arange(10000)\n",
    "np.random.shuffle(array)\n",
    "n = 5\n",
    "\n",
    "# Slow\n",
    "print (array[np.argsort(array)[-n:]])\n",
    "\n",
    "# Fast\n",
    "print (array[np.argpartition(-array, n)[:n]])"
   ]
  },
  {
   "cell_type": "markdown",
   "id": "15db2d01",
   "metadata": {},
   "source": [
    "#### 90. Given an arbitrary number of vectors, build the cartesian product (every combinations of every item) (★★★)"
   ]
  },
  {
   "cell_type": "code",
   "execution_count": 19,
   "id": "a9a4633d",
   "metadata": {},
   "outputs": [
    {
     "name": "stdout",
     "output_type": "stream",
     "text": [
      "[[1 4 6]\n",
      " [1 4 7]\n",
      " [1 5 6]\n",
      " [1 5 7]\n",
      " [2 4 6]\n",
      " [2 4 7]\n",
      " [2 5 6]\n",
      " [2 5 7]\n",
      " [3 4 6]\n",
      " [3 4 7]\n",
      " [3 5 6]\n",
      " [3 5 7]]\n"
     ]
    }
   ],
   "source": [
    "def cartesian(arrays) :\n",
    "    arrays = [np.asarray(a) for a in arrays]\n",
    "    shape = (len(x) for x in arrays)\n",
    "\n",
    "    ix = np.indices(shape, dtype=int)\n",
    "    ix = ix.reshape(len(arrays), -1).T\n",
    "\n",
    "    for n, arr in enumerate(arrays) :\n",
    "        ix[:, n] = arrays[n][ix[:, n]]\n",
    "\n",
    "    return ix\n",
    "\n",
    "print(cartesian(([1, 2, 3], [4, 5], [6, 7])))"
   ]
  },
  {
   "cell_type": "markdown",
   "id": "5d94d1ef",
   "metadata": {},
   "source": [
    "#### 91. How to create a record array from a regular array? (★★★)"
   ]
  },
  {
   "cell_type": "code",
   "execution_count": 20,
   "id": "b1dae380",
   "metadata": {},
   "outputs": [
    {
     "name": "stdout",
     "output_type": "stream",
     "text": [
      "[(b'Hello', 2.5, 3) (b'World', 3.6, 2)]\n"
     ]
    }
   ],
   "source": [
    "array = np.array([(\"Hello\", 2.5, 3),\n",
    "              (\"World\", 3.6, 2)])\n",
    "regular_array = np.core.records.fromarrays(array.T,\n",
    "                               names = 'col1, col2, col3',\n",
    "                               formats = 'S8, f8, i8')\n",
    "print(regular_array)"
   ]
  },
  {
   "cell_type": "markdown",
   "id": "114ccc36",
   "metadata": {},
   "source": [
    "#### 92. Consider a large vector Z, compute Z to the power of 3 using 3 different methods (★★★)"
   ]
  },
  {
   "cell_type": "code",
   "execution_count": 21,
   "id": "877c65d6",
   "metadata": {},
   "outputs": [
    {
     "name": "stdout",
     "output_type": "stream",
     "text": [
      "1.48 s ± 525 ms per loop (mean ± std. dev. of 7 runs, 1 loop each)\n",
      "338 ms ± 45.3 ms per loop (mean ± std. dev. of 7 runs, 1 loop each)\n",
      "336 ms ± 100 ms per loop (mean ± std. dev. of 7 runs, 1 loop each)\n"
     ]
    }
   ],
   "source": [
    "vector_Z = np.random.rand(int(5e7))\n",
    "\n",
    "%timeit np.power(vector_Z, 3)\n",
    "%timeit vector_Z * vector_Z * vector_Z\n",
    "%timeit np.einsum('i,i,i->i', vector_Z, vector_Z, vector_Z)"
   ]
  },
  {
   "cell_type": "markdown",
   "id": "d614fee4",
   "metadata": {},
   "source": [
    "#### 93. Consider two arrays A and B of shape (8,3) and (2,2). How to find rows of A that contain elements of each row of B regardless of the order of the elements in B? (★★★)"
   ]
  },
  {
   "cell_type": "code",
   "execution_count": 22,
   "id": "e6807a84",
   "metadata": {},
   "outputs": [
    {
     "name": "stdout",
     "output_type": "stream",
     "text": [
      "[1 3 4 6]\n"
     ]
    }
   ],
   "source": [
    "array_A = np.random.randint(0, 5, [8, 3])\n",
    "array_B = np.random.randint(0, 5, [2, 2])\n",
    "\n",
    "C = (array_A[..., np.newaxis, np.newaxis] == array_B)\n",
    "rows = np.where(C.any((3, 1)).all(1))[0]\n",
    "\n",
    "print(rows)"
   ]
  },
  {
   "cell_type": "markdown",
   "id": "b0eedca6",
   "metadata": {},
   "source": [
    "#### 94. Considering a 10x3 matrix, extract rows with unequal values (e.g. [2,2,3]) (★★★)"
   ]
  },
  {
   "cell_type": "code",
   "execution_count": 23,
   "id": "fc136ce2",
   "metadata": {},
   "outputs": [
    {
     "name": "stdout",
     "output_type": "stream",
     "text": [
      "[[0 3 0]\n",
      " [0 0 3]\n",
      " [3 4 2]\n",
      " [4 3 3]\n",
      " [4 1 4]\n",
      " [2 0 3]\n",
      " [4 1 2]\n",
      " [2 3 3]\n",
      " [2 1 3]\n",
      " [3 2 0]]\n",
      "[[0 3 0]\n",
      " [0 0 3]\n",
      " [3 4 2]\n",
      " [4 3 3]\n",
      " [4 1 4]\n",
      " [2 0 3]\n",
      " [4 1 2]\n",
      " [2 3 3]\n",
      " [2 1 3]\n",
      " [3 2 0]]\n"
     ]
    }
   ],
   "source": [
    "# solution for arrays of all dtypes (including string arrays and record arrays)\n",
    "\n",
    "ten_by_three_matrix = np.random.randint(0, 5, [10, 3])\n",
    "\n",
    "print(ten_by_three_matrix)\n",
    "\n",
    "E = np.all(ten_by_three_matrix[:, 1:] == ten_by_three_matrix[:, : -1], axis=1)\n",
    "U = ten_by_three_matrix[~E]\n",
    "print(U)\n"
   ]
  },
  {
   "cell_type": "code",
   "execution_count": 24,
   "id": "16abb02b",
   "metadata": {},
   "outputs": [
    {
     "name": "stdout",
     "output_type": "stream",
     "text": [
      "[[4 4 3]\n",
      " [1 4 2]\n",
      " [4 2 2]\n",
      " [0 0 3]\n",
      " [3 4 4]\n",
      " [4 0 1]\n",
      " [3 3 0]\n",
      " [0 4 1]\n",
      " [0 3 3]\n",
      " [1 3 4]]\n",
      "[[4 4 3]\n",
      " [1 4 2]\n",
      " [4 2 2]\n",
      " [0 0 3]\n",
      " [3 4 4]\n",
      " [4 0 1]\n",
      " [3 3 0]\n",
      " [0 4 1]\n",
      " [0 3 3]\n",
      " [1 3 4]]\n"
     ]
    }
   ],
   "source": [
    "# soluiton for numerical arrays only, will work for any number of columns in ten_by_three_matrix\n",
    "\n",
    "ten_by_three_matrix = np.random.randint(0, 5, [10, 3])\n",
    "\n",
    "print(ten_by_three_matrix)\n",
    "\n",
    "U = ten_by_three_matrix[ten_by_three_matrix.max(axis=1) != ten_by_three_matrix.min(axis=1),:]\n",
    "print(U)"
   ]
  },
  {
   "cell_type": "markdown",
   "id": "a65ec1cf",
   "metadata": {},
   "source": [
    "#### 95. Convert a vector of ints into a matrix binary representation (★★★)"
   ]
  },
  {
   "cell_type": "code",
   "execution_count": 26,
   "id": "323cdf4c",
   "metadata": {},
   "outputs": [
    {
     "name": "stdout",
     "output_type": "stream",
     "text": [
      "[[0 0 0 0 0 0 0 0]\n",
      " [0 0 0 0 0 0 0 1]\n",
      " [0 0 0 0 0 0 1 0]\n",
      " [0 0 0 0 0 0 1 1]\n",
      " [0 0 0 0 1 1 1 1]\n",
      " [0 0 0 1 0 0 0 0]\n",
      " [0 0 1 0 0 0 0 0]\n",
      " [0 1 0 0 0 0 0 0]\n",
      " [1 0 0 0 0 0 0 0]]\n"
     ]
    }
   ],
   "source": [
    "vector = np.array([0, 1, 2, 3, 15, 16, 32, 64, 128])\n",
    "binary_representation = ((vector.reshape(-1, 1) & (2 ** np.arange(8))) != 0).astype(int)\n",
    "\n",
    "print(binary_representation[:,::-1])"
   ]
  },
  {
   "cell_type": "code",
   "execution_count": 27,
   "id": "c6d7bbba",
   "metadata": {},
   "outputs": [
    {
     "name": "stdout",
     "output_type": "stream",
     "text": [
      "[[0 0 0 0 0 0 0 0]\n",
      " [0 0 0 0 0 0 0 1]\n",
      " [0 0 0 0 0 0 1 0]\n",
      " [0 0 0 0 0 0 1 1]\n",
      " [0 0 0 0 1 1 1 1]\n",
      " [0 0 0 1 0 0 0 0]\n",
      " [0 0 1 0 0 0 0 0]\n",
      " [0 1 0 0 0 0 0 0]\n",
      " [1 0 0 0 0 0 0 0]]\n"
     ]
    }
   ],
   "source": [
    "vector = np.array([0, 1, 2, 3, 15, 16, 32, 64, 128], dtype=np.uint8)\n",
    "\n",
    "print(np.unpackbits(vector[:, np.newaxis], axis=1))"
   ]
  },
  {
   "cell_type": "markdown",
   "id": "75b9397f",
   "metadata": {},
   "source": [
    "#### 96. Given a two dimensional array, how to extract unique rows? (★★★)"
   ]
  },
  {
   "cell_type": "code",
   "execution_count": 33,
   "id": "9bb56a47",
   "metadata": {},
   "outputs": [
    {
     "name": "stdout",
     "output_type": "stream",
     "text": [
      "[[0 0 0]\n",
      " [0 0 1]\n",
      " [1 0 1]\n",
      " [1 1 0]]\n"
     ]
    }
   ],
   "source": [
    "array = np.random.randint(0, 2, [6, 3])\n",
    "T = np.ascontiguousarray(array).view(np.dtype((np.void, array.dtype.itemsize * array.shape[1])))\n",
    "_, idx = np.unique(T, return_index=True)\n",
    "uZ = array[idx]\n",
    "\n",
    "print(uZ)"
   ]
  },
  {
   "cell_type": "code",
   "execution_count": 32,
   "id": "e1791321",
   "metadata": {},
   "outputs": [
    {
     "name": "stdout",
     "output_type": "stream",
     "text": [
      "[[0 0 1]\n",
      " [0 1 0]\n",
      " [0 1 1]\n",
      " [1 0 1]\n",
      " [1 1 0]\n",
      " [1 1 1]]\n"
     ]
    }
   ],
   "source": [
    "# Author: Andreas Kouarrayelis\n",
    "# NumPy >= 1.13\n",
    "\n",
    "array = np.random.randint(0, 2, [6, 3])\n",
    "T = np.ascontiguousarray(array).view(np.dtype((np.void, array.dtype.itemsize * array.shape[1])))\n",
    "_, idx = np.unique(T, return_index=True)\n",
    "uarray = np.unique(array, axis=0)\n",
    "\n",
    "print(uarray)"
   ]
  },
  {
   "cell_type": "markdown",
   "id": "82aaf21b",
   "metadata": {},
   "source": [
    "#### 97. Considering 2 vectors A & B, write the einsum equivalent of inner, outer, sum, and mul function (★★★)"
   ]
  },
  {
   "cell_type": "code",
   "execution_count": 34,
   "id": "cedcefd9",
   "metadata": {},
   "outputs": [
    {
     "data": {
      "text/plain": [
       "array([[2.16638264e-01, 2.04944846e-01, 1.84874635e-01, 2.16897131e-01,\n",
       "        2.49206136e-01, 7.46309464e-02, 1.59650227e-01, 1.53041200e-01,\n",
       "        1.58382165e-02, 3.38591452e-02],\n",
       "       [3.39632169e-04, 3.21299947e-04, 2.89835102e-04, 3.40038005e-04,\n",
       "        3.90690080e-04, 1.17001816e-04, 2.50289824e-04, 2.39928597e-04,\n",
       "        2.48301834e-05, 5.30822890e-05],\n",
       "       [6.85876236e-01, 6.48854903e-01, 5.85312662e-01, 6.86695808e-01,\n",
       "        7.88986044e-01, 2.36281401e-01, 5.05452244e-01, 4.84528080e-01,\n",
       "        5.01437563e-02, 1.07197974e-01],\n",
       "       [6.52474162e-01, 6.17255762e-01, 5.56808019e-01, 6.53253821e-01,\n",
       "        7.50562537e-01, 2.24774531e-01, 4.80836793e-01, 4.60931633e-01,\n",
       "        4.77017626e-02, 1.01977449e-01],\n",
       "       [5.11985162e-01, 4.84349894e-01, 4.36917599e-01, 5.12596947e-01,\n",
       "        5.88953409e-01, 1.76376677e-01, 3.77304294e-01, 3.61685060e-01,\n",
       "        3.74307460e-02, 8.00199357e-02],\n",
       "       [5.32235863e-01, 5.03507530e-01, 4.54199130e-01, 5.32871846e-01,\n",
       "        6.12248458e-01, 1.83352956e-01, 3.92227923e-01, 3.75990897e-01,\n",
       "        3.89112554e-02, 8.31849880e-02],\n",
       "       [8.42295661e-01, 7.96831323e-01, 7.18797779e-01, 8.43302143e-01,\n",
       "        9.68920464e-01, 2.90167218e-01, 6.20724571e-01, 5.95028488e-01,\n",
       "        6.15794309e-02, 1.31645309e-01],\n",
       "       [7.51187079e-01, 7.10640482e-01, 6.41047590e-01, 7.52084692e-01,\n",
       "        8.64115259e-01, 2.58780705e-01, 5.53582665e-01, 5.30666050e-01,\n",
       "        5.49185696e-02, 1.17405632e-01],\n",
       "       [7.76955359e-01, 7.35017875e-01, 6.63037710e-01, 7.77883764e-01,\n",
       "        8.93757361e-01, 2.67657766e-01, 5.72572440e-01, 5.48869707e-01,\n",
       "        5.68024639e-02, 1.21433046e-01],\n",
       "       [6.44540454e-01, 6.09750289e-01, 5.50037556e-01, 6.45310633e-01,\n",
       "        7.41436131e-01, 2.22041403e-01, 4.74990096e-01, 4.55326971e-01,\n",
       "        4.71217367e-02, 1.00737462e-01]])"
      ]
     },
     "execution_count": 34,
     "metadata": {},
     "output_type": "execute_result"
    }
   ],
   "source": [
    "# Make sure to read: http://ajcr.net/Basic-guide-to-einsum/\n",
    "\n",
    "vector_A = np.random.uniform(0, 1, 10)\n",
    "vector_B = np.random.uniform(0, 1, 10)\n",
    "\n",
    "np.einsum('i->',    vector_A          ) # np.sum(A)\n",
    "np.einsum('i,i->i', vector_A, vector_B) # A * B\n",
    "np.einsum('i,i',    vector_A, vector_B) # np.inner(A, B)\n",
    "np.einsum('i,j->ij',vector_A, vector_B) # np.outer(A, B)"
   ]
  },
  {
   "cell_type": "markdown",
   "id": "7741e17f",
   "metadata": {},
   "source": [
    "#### 98. Considering a path described by two vectors (X,Y), how to sample it using equidistant samples (★★★)?"
   ]
  },
  {
   "cell_type": "code",
   "execution_count": 35,
   "id": "0b2432fe",
   "metadata": {},
   "outputs": [],
   "source": [
    "phi = np.arange(0, 10 * np.pi, 0.1)\n",
    "a = 1\n",
    "vectors_X = a * phi * np.cos(phi)\n",
    "vectors_Y = a * phi * np.sin(phi)\n",
    "\n",
    "dr = (np.diff(vectors_X)**2 + np.diff(vectors_Y)**2)**.5 # segment lengths\n",
    "r = np.zeros_like(vectors_X)\n",
    "r[1:] = np.cumsum(dr)                        # integrate path\n",
    "r_int = np.linspace(0, r.max(), 200)         # regular spaced path\n",
    "x_int = np.interp(r_int, r, vectors_X)       # integrate path\n",
    "y_int = np.interp(r_int, r, vectors_Y)"
   ]
  },
  {
   "cell_type": "markdown",
   "id": "340d6f36",
   "metadata": {},
   "source": [
    "#### 99. Given an integer n and a 2D array X, select from X the rows which can be interpreted as draws from a multinomial distribution with n degrees, i.e., the rows which only contain integers and which sum to n. (★★★)"
   ]
  },
  {
   "cell_type": "code",
   "execution_count": 36,
   "id": "a75323ae",
   "metadata": {},
   "outputs": [
    {
     "name": "stdout",
     "output_type": "stream",
     "text": [
      "[[2. 0. 1. 1.]]\n"
     ]
    }
   ],
   "source": [
    "two_D_array_X = np.asarray([[1.0, 0.0, 3.0, 8.0],\n",
    "                [2.0, 0.0, 1.0, 1.0],\n",
    "                [1.5, 2.5, 1.0, 0.0]])\n",
    "n = 4\n",
    "M = np.logical_and.reduce(np.mod(two_D_array_X, 1) == 0, axis=-1)\n",
    "M &= (two_D_array_X.sum(axis=-1) == n)\n",
    "\n",
    "print(two_D_array_X[M])"
   ]
  },
  {
   "cell_type": "markdown",
   "id": "19721849",
   "metadata": {},
   "source": [
    "#### 100. Compute bootstrapped 95% confidence intervals for the mean of a 1D array X (i.e., resample the elements of an array with replacement N times, compute the mean of each sample, and then compute percentiles over the means). (★★★)"
   ]
  },
  {
   "cell_type": "code",
   "execution_count": 37,
   "id": "87309c6f",
   "metadata": {},
   "outputs": [
    {
     "name": "stdout",
     "output_type": "stream",
     "text": [
      "[-0.09524975  0.3090856 ]\n"
     ]
    }
   ],
   "source": [
    "one_D_array_X = np.random.randn(100) # random 1D array\n",
    "N = 1000                             # number of bootstrap samples\n",
    "idx = np.random.randint(0, one_D_array_X.size, (N, one_D_array_X.size))\n",
    "means = one_D_array_X[idx].mean(axis=1)\n",
    "confint = np.percentile(means, [2.5, 97.5])\n",
    "\n",
    "print(confint)"
   ]
  }
 ],
 "metadata": {
  "kernelspec": {
   "display_name": "Python 3.10.1 64-bit",
   "language": "python",
   "name": "python3"
  },
  "language_info": {
   "codemirror_mode": {
    "name": "ipython",
    "version": 3
   },
   "file_extension": ".py",
   "mimetype": "text/x-python",
   "name": "python",
   "nbconvert_exporter": "python",
   "pygments_lexer": "ipython3",
   "version": "3.10.1"
  },
  "vscode": {
   "interpreter": {
    "hash": "aee8b7b246df8f9039afb4144a1f6fd8d2ca17a180786b69acc140d282b71a49"
   }
  }
 },
 "nbformat": 4,
 "nbformat_minor": 5
}
